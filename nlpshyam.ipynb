{
 "cells": [
  {
   "cell_type": "markdown",
   "metadata": {},
   "source": [
    "#  Topic Modelling"
   ]
  },
  {
   "cell_type": "markdown",
   "metadata": {},
   "source": [
    "- It is a type of statistical model for discovering the abstract topics that can occur in a collection of documents\n",
    "- It helps to discover the hidden topics\n",
    "- Examples:\n",
    "    - amazon has great customer support. very quick response = customer support\n",
    "- Terms define topics:\n",
    "    - Customer Support (support,service, call center, response, polite)\n",
    "    - Delivery (speed, packing, damaged, protection)\n",
    "    - Deals (offers, sales, promotions, coupons, offer)\n",
    "- Poplar methods\n",
    "    - Latent Sematic Analysis(LSA)\n",
    "    - Latent Dirichlet Allocation(LDA)\n",
    "- Applications:\n",
    "    - Clustering\n",
    "    - Reduce Dimmensions\n",
    "    - Multi-Tagging"
   ]
  },
  {
   "cell_type": "code",
   "execution_count": 1,
   "metadata": {},
   "outputs": [
    {
     "name": "stdout",
     "output_type": "stream",
     "text": [
      "Collecting gensim\n",
      "  Downloading https://files.pythonhosted.org/packages/54/ee/c1f685caa83ee9b8f54573b51648af61b01377bcc5981a18704f5247cce7/gensim-3.7.1-cp36-cp36m-win_amd64.whl (24.1MB)\n",
      "Collecting smart-open>=1.7.0 (from gensim)\n",
      "  Downloading https://files.pythonhosted.org/packages/ff/c8/de7dcf34d4b5f2ae94fe1055e0d6418fb97a63c9dc3428edd264704983a2/smart_open-1.8.0.tar.gz (40kB)\n",
      "Requirement already satisfied: numpy>=1.11.3 in c:\\programdata\\anaconda3\\lib\\site-packages (from gensim) (1.14.0)\n",
      "Requirement already satisfied: six>=1.5.0 in c:\\programdata\\anaconda3\\lib\\site-packages (from gensim) (1.11.0)\n",
      "Requirement already satisfied: scipy>=0.18.1 in c:\\programdata\\anaconda3\\lib\\site-packages (from gensim) (1.0.0)\n",
      "Requirement already satisfied: boto>=2.32 in c:\\programdata\\anaconda3\\lib\\site-packages (from smart-open>=1.7.0->gensim) (2.48.0)\n",
      "Collecting bz2file (from smart-open>=1.7.0->gensim)\n",
      "  Downloading https://files.pythonhosted.org/packages/61/39/122222b5e85cd41c391b68a99ee296584b2a2d1d233e7ee32b4532384f2d/bz2file-0.98.tar.gz\n",
      "Requirement already satisfied: requests in c:\\programdata\\anaconda3\\lib\\site-packages (from smart-open>=1.7.0->gensim) (2.18.4)\n",
      "Collecting boto3 (from smart-open>=1.7.0->gensim)\n",
      "  Downloading https://files.pythonhosted.org/packages/9f/f7/325ba3c39b2d0c8f361a3ba3de913a6b57bbb97cc520a9406cd1a8cdf9fd/boto3-1.9.95-py2.py3-none-any.whl (128kB)\n",
      "Requirement already satisfied: chardet<3.1.0,>=3.0.2 in c:\\programdata\\anaconda3\\lib\\site-packages (from requests->smart-open>=1.7.0->gensim) (3.0.4)\n",
      "Requirement already satisfied: idna<2.7,>=2.5 in c:\\programdata\\anaconda3\\lib\\site-packages (from requests->smart-open>=1.7.0->gensim) (2.6)\n",
      "Requirement already satisfied: urllib3<1.23,>=1.21.1 in c:\\programdata\\anaconda3\\lib\\site-packages (from requests->smart-open>=1.7.0->gensim) (1.22)\n",
      "Requirement already satisfied: certifi>=2017.4.17 in c:\\programdata\\anaconda3\\lib\\site-packages (from requests->smart-open>=1.7.0->gensim) (2018.1.18)\n",
      "Collecting jmespath<1.0.0,>=0.7.1 (from boto3->smart-open>=1.7.0->gensim)\n",
      "  Downloading https://files.pythonhosted.org/packages/b7/31/05c8d001f7f87f0f07289a5fc0fc3832e9a57f2dbd4d3b0fee70e0d51365/jmespath-0.9.3-py2.py3-none-any.whl\n",
      "Collecting s3transfer<0.3.0,>=0.2.0 (from boto3->smart-open>=1.7.0->gensim)\n",
      "  Downloading https://files.pythonhosted.org/packages/d7/de/5737f602e22073ecbded7a0c590707085e154e32b68d86545dcc31004c02/s3transfer-0.2.0-py2.py3-none-any.whl (69kB)\n",
      "Collecting botocore<1.13.0,>=1.12.95 (from boto3->smart-open>=1.7.0->gensim)\n",
      "  Downloading https://files.pythonhosted.org/packages/b9/e5/cb3e70e65750c5dd37a1130537139d594d7133931fdb1b5933f1b8ebcac1/botocore-1.12.95-py2.py3-none-any.whl (5.3MB)\n",
      "Requirement already satisfied: docutils>=0.10 in c:\\programdata\\anaconda3\\lib\\site-packages (from botocore<1.13.0,>=1.12.95->boto3->smart-open>=1.7.0->gensim) (0.14)\n",
      "Requirement already satisfied: python-dateutil<3.0.0,>=2.1; python_version >= \"2.7\" in c:\\programdata\\anaconda3\\lib\\site-packages (from botocore<1.13.0,>=1.12.95->boto3->smart-open>=1.7.0->gensim) (2.6.1)\n",
      "Building wheels for collected packages: smart-open, bz2file\n",
      "  Building wheel for smart-open (setup.py): started\n",
      "  Building wheel for smart-open (setup.py): finished with status 'done'\n",
      "  Stored in directory: C:\\Users\\kk\\AppData\\Local\\pip\\Cache\\wheels\\f7\\a6\\ff\\9ab5842c14e50e95a06a4675b0b4a689c9cab6064dac2b01d0\n",
      "  Building wheel for bz2file (setup.py): started\n",
      "  Building wheel for bz2file (setup.py): finished with status 'done'\n",
      "  Stored in directory: C:\\Users\\kk\\AppData\\Local\\pip\\Cache\\wheels\\81\\75\\d6\\e1317bf09bf1af5a30befc2a007869fa6e1f516b8f7c591cb9\n",
      "Successfully built smart-open bz2file\n",
      "Installing collected packages: bz2file, jmespath, botocore, s3transfer, boto3, smart-open, gensim\n",
      "Successfully installed boto3-1.9.95 botocore-1.12.95 bz2file-0.98 gensim-3.7.1 jmespath-0.9.3 s3transfer-0.2.0 smart-open-1.8.0\n"
     ]
    }
   ],
   "source": [
    "!pip install gensim"
   ]
  },
  {
   "cell_type": "code",
   "execution_count": 2,
   "metadata": {},
   "outputs": [],
   "source": [
    "import gensim"
   ]
  },
  {
   "cell_type": "code",
   "execution_count": 85,
   "metadata": {},
   "outputs": [],
   "source": [
    "import pandas as pd\n",
    "import numpy as np\n",
    "import nltk"
   ]
  },
  {
   "cell_type": "code",
   "execution_count": 86,
   "metadata": {},
   "outputs": [
    {
     "data": {
      "text/html": [
       "<div>\n",
       "<style scoped>\n",
       "    .dataframe tbody tr th:only-of-type {\n",
       "        vertical-align: middle;\n",
       "    }\n",
       "\n",
       "    .dataframe tbody tr th {\n",
       "        vertical-align: top;\n",
       "    }\n",
       "\n",
       "    .dataframe thead th {\n",
       "        text-align: right;\n",
       "    }\n",
       "</style>\n",
       "<table border=\"1\" class=\"dataframe\">\n",
       "  <thead>\n",
       "    <tr style=\"text-align: right;\">\n",
       "      <th></th>\n",
       "      <th>asin</th>\n",
       "      <th>overall</th>\n",
       "      <th>reviewText</th>\n",
       "      <th>reviewTime</th>\n",
       "      <th>reviewerID</th>\n",
       "      <th>reviewerName</th>\n",
       "      <th>summary</th>\n",
       "      <th>unixReviewTime</th>\n",
       "    </tr>\n",
       "  </thead>\n",
       "  <tbody>\n",
       "    <tr>\n",
       "      <th>0</th>\n",
       "      <td>B000HDJXNA</td>\n",
       "      <td>1</td>\n",
       "      <td>What I recieved is not what is pictured here O...</td>\n",
       "      <td>12 26, 2012</td>\n",
       "      <td>A29YXBFTD7QUP3</td>\n",
       "      <td>HHA</td>\n",
       "      <td>Buyer be ware</td>\n",
       "      <td>1.356480e+09</td>\n",
       "    </tr>\n",
       "    <tr>\n",
       "      <th>1</th>\n",
       "      <td>B006KKS7XQ</td>\n",
       "      <td>5</td>\n",
       "      <td>Excellent unit and a pretty simple install usi...</td>\n",
       "      <td>09 20, 2013</td>\n",
       "      <td>A3IMTXFYD7CGDN</td>\n",
       "      <td>Peter W. George \"soyflakeman\"</td>\n",
       "      <td>high quality without high price</td>\n",
       "      <td>1.379635e+09</td>\n",
       "    </tr>\n",
       "    <tr>\n",
       "      <th>2</th>\n",
       "      <td>B002NP8XJ0</td>\n",
       "      <td>5</td>\n",
       "      <td>I'm enjoying this keyboard, I'm getting anothe...</td>\n",
       "      <td>08 31, 2010</td>\n",
       "      <td>AXNOW20FQKHVW</td>\n",
       "      <td>B. Hayashi</td>\n",
       "      <td>Superb keyboard + solution for slow wake up an...</td>\n",
       "      <td>1.283213e+09</td>\n",
       "    </tr>\n",
       "    <tr>\n",
       "      <th>3</th>\n",
       "      <td>B000EITTLE</td>\n",
       "      <td>4</td>\n",
       "      <td>Overall, this is a fantastic camera that I'm e...</td>\n",
       "      <td>02 3, 2008</td>\n",
       "      <td>A10KCAK279LO0W</td>\n",
       "      <td>mmcwatters \"macdadi80\"</td>\n",
       "      <td>One qualm: not great in low light</td>\n",
       "      <td>1.201997e+09</td>\n",
       "    </tr>\n",
       "    <tr>\n",
       "      <th>4</th>\n",
       "      <td>B006CRXK4S</td>\n",
       "      <td>5</td>\n",
       "      <td>These work very well with mySamsung PN64D7000 ...</td>\n",
       "      <td>01 28, 2012</td>\n",
       "      <td>A19XXLMZXR764J</td>\n",
       "      <td>S. Garfinkle</td>\n",
       "      <td>Work great, fit well</td>\n",
       "      <td>1.327709e+09</td>\n",
       "    </tr>\n",
       "  </tbody>\n",
       "</table>\n",
       "</div>"
      ],
      "text/plain": [
       "         asin  overall                                         reviewText  \\\n",
       "0  B000HDJXNA        1  What I recieved is not what is pictured here O...   \n",
       "1  B006KKS7XQ        5  Excellent unit and a pretty simple install usi...   \n",
       "2  B002NP8XJ0        5  I'm enjoying this keyboard, I'm getting anothe...   \n",
       "3  B000EITTLE        4  Overall, this is a fantastic camera that I'm e...   \n",
       "4  B006CRXK4S        5  These work very well with mySamsung PN64D7000 ...   \n",
       "\n",
       "    reviewTime      reviewerID                   reviewerName  \\\n",
       "0  12 26, 2012  A29YXBFTD7QUP3                            HHA   \n",
       "1  09 20, 2013  A3IMTXFYD7CGDN  Peter W. George \"soyflakeman\"   \n",
       "2  08 31, 2010   AXNOW20FQKHVW                     B. Hayashi   \n",
       "3   02 3, 2008  A10KCAK279LO0W         mmcwatters \"macdadi80\"   \n",
       "4  01 28, 2012  A19XXLMZXR764J                   S. Garfinkle   \n",
       "\n",
       "                                             summary  unixReviewTime  \n",
       "0                                      Buyer be ware    1.356480e+09  \n",
       "1                    high quality without high price    1.379635e+09  \n",
       "2  Superb keyboard + solution for slow wake up an...    1.283213e+09  \n",
       "3                  One qualm: not great in low light    1.201997e+09  \n",
       "4                               Work great, fit well    1.327709e+09  "
      ]
     },
     "execution_count": 86,
     "metadata": {},
     "output_type": "execute_result"
    }
   ],
   "source": [
    "docs_clean = []\n",
    "amazon = pd.read_csv('amazon_reviews_big.csv')\n",
    "amazon.head()"
   ]
  },
  {
   "cell_type": "code",
   "execution_count": 87,
   "metadata": {},
   "outputs": [],
   "source": [
    "from nltk.sentiment import SentimentIntensityAnalyzer"
   ]
  },
  {
   "cell_type": "code",
   "execution_count": 88,
   "metadata": {},
   "outputs": [
    {
     "data": {
      "text/plain": [
       "100000"
      ]
     },
     "execution_count": 88,
     "metadata": {},
     "output_type": "execute_result"
    }
   ],
   "source": [
    "docs = amazon['reviewText'].fillna('').str.lower().str.replace('[^a-z ]', '')\n",
    "stopwords = nltk.corpus.stopwords.words('english')\n",
    "stopwords.extend(['','use', 'good', 'like', 'great', 'work', 'one', 'thi'])\n",
    "stemmer = nltk.stem.PorterStemmer()\n",
    "for doc in docs:\n",
    "    words=doc.split(' ')\n",
    "    words_clean = [stemmer.stem(word) for word in words if word not in stopwords]\n",
    "    docs_clean.append(words_clean)\n",
    "len(docs_clean)"
   ]
  },
  {
   "cell_type": "code",
   "execution_count": 89,
   "metadata": {},
   "outputs": [
    {
     "data": {
      "text/plain": [
       "<gensim.corpora.dictionary.Dictionary at 0x1b7087fd780>"
      ]
     },
     "execution_count": 89,
     "metadata": {},
     "output_type": "execute_result"
    }
   ],
   "source": [
    "dictionary = gensim.corpora.Dictionary(docs_clean)\n",
    "dictionary"
   ]
  },
  {
   "cell_type": "code",
   "execution_count": 90,
   "metadata": {},
   "outputs": [],
   "source": [
    "docs_bow = []\n",
    "for doc in docs_clean:\n",
    "    doc_bow = dictionary.doc2bow(doc)\n",
    "    docs_bow.append(doc_bow)"
   ]
  },
  {
   "cell_type": "code",
   "execution_count": 91,
   "metadata": {},
   "outputs": [
    {
     "data": {
      "text/plain": [
       "[(0, 1),\n",
       " (1, 2),\n",
       " (2, 1),\n",
       " (3, 1),\n",
       " (4, 1),\n",
       " (5, 1),\n",
       " (6, 1),\n",
       " (7, 5),\n",
       " (8, 1),\n",
       " (9, 1),\n",
       " (10, 3),\n",
       " (11, 2),\n",
       " (12, 1),\n",
       " (13, 1),\n",
       " (14, 1),\n",
       " (15, 1),\n",
       " (16, 1),\n",
       " (17, 1),\n",
       " (18, 1),\n",
       " (19, 2),\n",
       " (20, 1),\n",
       " (21, 1),\n",
       " (22, 1),\n",
       " (23, 1),\n",
       " (24, 1),\n",
       " (25, 1),\n",
       " (26, 1),\n",
       " (27, 1),\n",
       " (28, 2),\n",
       " (29, 1),\n",
       " (30, 1),\n",
       " (31, 1),\n",
       " (32, 1),\n",
       " (33, 1),\n",
       " (34, 2),\n",
       " (35, 2),\n",
       " (36, 1),\n",
       " (37, 1),\n",
       " (38, 1),\n",
       " (39, 1),\n",
       " (40, 1),\n",
       " (41, 1),\n",
       " (42, 1),\n",
       " (43, 1),\n",
       " (44, 1),\n",
       " (45, 1),\n",
       " (46, 1),\n",
       " (47, 1),\n",
       " (48, 1),\n",
       " (49, 1),\n",
       " (50, 1)]"
      ]
     },
     "execution_count": 91,
     "metadata": {},
     "output_type": "execute_result"
    }
   ],
   "source": [
    "dictionary.doc2bow(docs_clean[0])"
   ]
  },
  {
   "cell_type": "code",
   "execution_count": 92,
   "metadata": {},
   "outputs": [],
   "source": [
    "lda_model = gensim.models.LdaModel(docs_bow,\n",
    "                                  id2word = dictionary,\n",
    "                                  num_topics = 4)"
   ]
  },
  {
   "cell_type": "code",
   "execution_count": 93,
   "metadata": {},
   "outputs": [
    {
     "data": {
      "text/plain": [
       "[(1, 0.98736066)]"
      ]
     },
     "execution_count": 93,
     "metadata": {},
     "output_type": "execute_result"
    }
   ],
   "source": [
    "lda_model.get_document_topics(docs_bow[0])"
   ]
  },
  {
   "cell_type": "code",
   "execution_count": 94,
   "metadata": {},
   "outputs": [
    {
     "data": {
      "text/plain": [
       "[(0, 0.34344906), (1, 0.6474734)]"
      ]
     },
     "execution_count": 94,
     "metadata": {},
     "output_type": "execute_result"
    }
   ],
   "source": [
    "lda_model.get_document_topics(docs_bow[1])"
   ]
  },
  {
   "cell_type": "code",
   "execution_count": 95,
   "metadata": {},
   "outputs": [
    {
     "data": {
      "text/plain": [
       "[(0,\n",
       "  '0.016*\"case\" + 0.012*\"sound\" + 0.009*\"fit\" + 0.007*\"well\" + 0.007*\"keyboard\" + 0.007*\"look\" + 0.006*\"headphon\" + 0.006*\"use\" + 0.006*\"would\" + 0.006*\"ipad\"'),\n",
       " (1,\n",
       "  '0.012*\"cabl\" + 0.012*\"work\" + 0.010*\"tv\" + 0.009*\"get\" + 0.008*\"would\" + 0.007*\"product\" + 0.006*\"price\" + 0.006*\"need\" + 0.006*\"time\" + 0.006*\"use\"'),\n",
       " (2,\n",
       "  '0.015*\"drive\" + 0.011*\"usb\" + 0.009*\"use\" + 0.009*\"card\" + 0.008*\"comput\" + 0.008*\"work\" + 0.007*\"devic\" + 0.007*\"connect\" + 0.006*\"instal\" + 0.006*\"get\"'),\n",
       " (3,\n",
       "  '0.029*\"camera\" + 0.018*\"batteri\" + 0.013*\"len\" + 0.009*\"use\" + 0.007*\"take\" + 0.007*\"mous\" + 0.007*\"get\" + 0.007*\"pictur\" + 0.006*\"light\" + 0.006*\"canon\"')]"
      ]
     },
     "execution_count": 95,
     "metadata": {},
     "output_type": "execute_result"
    }
   ],
   "source": [
    "lda_model.print_topics()"
   ]
  },
  {
   "cell_type": "code",
   "execution_count": 96,
   "metadata": {},
   "outputs": [
    {
     "data": {
      "text/plain": [
       "1.0"
      ]
     },
     "execution_count": 96,
     "metadata": {},
     "output_type": "execute_result"
    }
   ],
   "source": [
    "doc2topic_prob = lda_model.get_document_topics(docs_bow[0])\n",
    "\n",
    "doc2topic_prob = pd.DataFrame(doc2topic_prob, columns=['topic','prob'])\n",
    "\n",
    "doc2topic_prob.sort_values('prob', ascending = False).iloc[0]['topic']"
   ]
  },
  {
   "cell_type": "code",
   "execution_count": 97,
   "metadata": {},
   "outputs": [],
   "source": [
    "topics = []\n",
    "for doc_bow in docs_bow:\n",
    "    doc2topic_prob = lda_model.get_document_topics(doc_bow)\n",
    "    doc2topic_prob = pd.DataFrame(doc2topic_prob, columns=['topic','prob'])\n",
    "    topic = doc2topic_prob.sort_values('prob', ascending = False).iloc[0]['topic']\n",
    "    topics.append(topic)"
   ]
  },
  {
   "cell_type": "code",
   "execution_count": 98,
   "metadata": {},
   "outputs": [
    {
     "data": {
      "text/plain": [
       "1.0    35892\n",
       "0.0    27633\n",
       "2.0    21896\n",
       "3.0    14579\n",
       "Name: topics, dtype: int64"
      ]
     },
     "execution_count": 98,
     "metadata": {},
     "output_type": "execute_result"
    }
   ],
   "source": [
    "amazon['topics'] = topics\n",
    "amazon['topics'].value_counts()"
   ]
  },
  {
   "cell_type": "markdown",
   "metadata": {},
   "source": [
    "- The matrix is converted into two matrices.\n",
    "- The first matrix has topics (k) named as Document to Topic Relationship.\n",
    "- The Second matrix is Topic to Word Relationship.\n",
    "- The document contains hidden topics known as latent variable.\n",
    "- LSA, Matrix Factorization, LDA\n",
    "- In K-Means we divide the data into clusters in the same way in the topic modelling we divide them based on topics.\n",
    "- In K-Means we calclate the centroid and then calculate the means of the clusters in this we will take the documents and then       iterate them by the randomly assigned topic.\n",
    "                   -Iteration 1: ( Based on the random assigned topic )\n",
    "        -- After assigning the topic each word checks how many times it appeared and create the matrix( Topic to word Relationship).\n",
    "        -- Then it checks how many times each topic has appeared in the document and creates the matrix (Document to Topic Relationship).\n",
    "                    -Iteration 2: (Assigning the new topic based on the probability of the word belongs to the topic * Probability of the topic belongs to document)\n",
    "        -- This calclation is done for all the topics and checks which topic has higher probability \n",
    "    - This Iteration process is called GIBBS SAMPLING.\n",
    "    - Based on GAMMA measure the iteration gets stopped by default it is of 50 iterations."
   ]
  },
  {
   "cell_type": "code",
   "execution_count": 99,
   "metadata": {},
   "outputs": [
    {
     "name": "stdout",
     "output_type": "stream",
     "text": [
      "Collecting pyLDAvis\n",
      "  Downloading https://files.pythonhosted.org/packages/a5/3a/af82e070a8a96e13217c8f362f9a73e82d61ac8fff3a2561946a97f96266/pyLDAvis-2.1.2.tar.gz (1.6MB)\n",
      "Requirement already satisfied: wheel>=0.23.0 in c:\\programdata\\anaconda3\\lib\\site-packages (from pyLDAvis) (0.30.0)\n",
      "Requirement already satisfied: numpy>=1.9.2 in c:\\programdata\\anaconda3\\lib\\site-packages (from pyLDAvis) (1.14.0)\n",
      "Requirement already satisfied: scipy>=0.18.0 in c:\\programdata\\anaconda3\\lib\\site-packages (from pyLDAvis) (1.0.0)\n",
      "Requirement already satisfied: pandas>=0.17.0 in c:\\programdata\\anaconda3\\lib\\site-packages (from pyLDAvis) (0.22.0)\n",
      "Collecting joblib>=0.8.4 (from pyLDAvis)\n",
      "  Downloading https://files.pythonhosted.org/packages/cd/c1/50a758e8247561e58cb87305b1e90b171b8c767b15b12a1734001f41d356/joblib-0.13.2-py2.py3-none-any.whl (278kB)\n",
      "Requirement already satisfied: jinja2>=2.7.2 in c:\\programdata\\anaconda3\\lib\\site-packages (from pyLDAvis) (2.10)\n",
      "Requirement already satisfied: numexpr in c:\\programdata\\anaconda3\\lib\\site-packages (from pyLDAvis) (2.6.4)\n",
      "Requirement already satisfied: pytest in c:\\programdata\\anaconda3\\lib\\site-packages (from pyLDAvis) (3.3.2)\n",
      "Collecting future (from pyLDAvis)\n",
      "  Downloading https://files.pythonhosted.org/packages/90/52/e20466b85000a181e1e144fd8305caf2cf475e2f9674e797b222f8105f5f/future-0.17.1.tar.gz (829kB)\n",
      "Collecting funcy (from pyLDAvis)\n",
      "  Downloading https://files.pythonhosted.org/packages/47/a4/204fa23012e913839c2da4514b92f17da82bf5fc8c2c3d902fa3fa3c6eec/funcy-1.11-py2.py3-none-any.whl\n",
      "Requirement already satisfied: python-dateutil>=2 in c:\\programdata\\anaconda3\\lib\\site-packages (from pandas>=0.17.0->pyLDAvis) (2.6.1)\n",
      "Requirement already satisfied: pytz>=2011k in c:\\programdata\\anaconda3\\lib\\site-packages (from pandas>=0.17.0->pyLDAvis) (2017.3)\n",
      "Requirement already satisfied: MarkupSafe>=0.23 in c:\\programdata\\anaconda3\\lib\\site-packages (from jinja2>=2.7.2->pyLDAvis) (1.0)\n",
      "Requirement already satisfied: py>=1.5.0 in c:\\programdata\\anaconda3\\lib\\site-packages (from pytest->pyLDAvis) (1.5.2)\n",
      "Requirement already satisfied: six>=1.10.0 in c:\\programdata\\anaconda3\\lib\\site-packages (from pytest->pyLDAvis) (1.11.0)\n",
      "Requirement already satisfied: setuptools in c:\\programdata\\anaconda3\\lib\\site-packages (from pytest->pyLDAvis) (38.4.0)\n",
      "Requirement already satisfied: attrs>=17.2.0 in c:\\programdata\\anaconda3\\lib\\site-packages (from pytest->pyLDAvis) (17.4.0)\n",
      "Requirement already satisfied: pluggy<0.7,>=0.5 in c:\\programdata\\anaconda3\\lib\\site-packages (from pytest->pyLDAvis) (0.6.0)\n",
      "Requirement already satisfied: colorama in c:\\programdata\\anaconda3\\lib\\site-packages (from pytest->pyLDAvis) (0.3.9)\n",
      "Building wheels for collected packages: pyLDAvis, future\n",
      "  Building wheel for pyLDAvis (setup.py): started\n",
      "  Building wheel for pyLDAvis (setup.py): finished with status 'done'\n",
      "  Stored in directory: C:\\Users\\kk\\AppData\\Local\\pip\\Cache\\wheels\\98\\71\\24\\513a99e58bb6b8465bae4d2d5e9dba8f0bef8179e3051ac414\n",
      "  Building wheel for future (setup.py): started\n",
      "  Building wheel for future (setup.py): finished with status 'done'\n",
      "  Stored in directory: C:\\Users\\kk\\AppData\\Local\\pip\\Cache\\wheels\\0c\\61\\d2\\d6b7317325828fbb39ee6ad559dbe4664d0896da4721bf379e\n",
      "Successfully built pyLDAvis future\n",
      "Installing collected packages: joblib, future, funcy, pyLDAvis\n",
      "Successfully installed funcy-1.11 future-0.17.1 joblib-0.13.2 pyLDAvis-2.1.2\n"
     ]
    }
   ],
   "source": [
    "!pip install pyLDAvis"
   ]
  },
  {
   "cell_type": "code",
   "execution_count": 102,
   "metadata": {},
   "outputs": [],
   "source": [
    "import pyLDAvis\n",
    "import pyLDAvis.gensim\n",
    "import matplotlib.pyplot as plt\n",
    "%matplotlib inline"
   ]
  },
  {
   "cell_type": "code",
   "execution_count": 104,
   "metadata": {},
   "outputs": [
    {
     "name": "stderr",
     "output_type": "stream",
     "text": [
      "C:\\ProgramData\\Anaconda3\\lib\\site-packages\\numexpr\\cpuinfo.py:109: DeprecationWarning: invalid escape sequence \\d\n",
      "  nbits = re.compile('(\\d+)bit').search(abits).group(1)\n",
      "C:\\ProgramData\\Anaconda3\\lib\\site-packages\\numexpr\\cpuinfo.py:662: DeprecationWarning: invalid escape sequence \\s\n",
      "  \"\\s+stepping\\s+(?P<STP>\\d+)\", re.IGNORECASE)\n"
     ]
    },
    {
     "data": {
      "text/html": [
       "\n",
       "<link rel=\"stylesheet\" type=\"text/css\" href=\"https://cdn.rawgit.com/bmabey/pyLDAvis/files/ldavis.v1.0.0.css\">\n",
       "\n",
       "\n",
       "<div id=\"ldavis_el903618867130003684425092613\"></div>\n",
       "<script type=\"text/javascript\">\n",
       "\n",
       "var ldavis_el903618867130003684425092613_data = {\"mdsDat\": {\"Freq\": [30.338937759399414, 26.240644454956055, 25.507091522216797, 17.913328170776367], \"cluster\": [1, 1, 1, 1], \"topics\": [1, 2, 3, 4], \"x\": [0.03980374735335575, -0.11531144892799618, 0.1324422602872006, -0.05693455871256024], \"y\": [-0.03521219310857505, -0.08288197423254799, -0.0075617702524847, 0.1256559375936077]}, \"tinfo\": {\"Category\": [\"Default\", \"Default\", \"Default\", \"Default\", \"Default\", \"Default\", \"Default\", \"Default\", \"Default\", \"Default\", \"Default\", \"Default\", \"Default\", \"Default\", \"Default\", \"Default\", \"Default\", \"Default\", \"Default\", \"Default\", \"Default\", \"Default\", \"Default\", \"Default\", \"Default\", \"Default\", \"Default\", \"Default\", \"Default\", \"Default\", \"Topic1\", \"Topic1\", \"Topic1\", \"Topic1\", \"Topic1\", \"Topic1\", \"Topic1\", \"Topic1\", \"Topic1\", \"Topic1\", \"Topic1\", \"Topic1\", \"Topic1\", \"Topic1\", \"Topic1\", \"Topic1\", \"Topic1\", \"Topic1\", \"Topic1\", \"Topic1\", \"Topic1\", \"Topic1\", \"Topic1\", \"Topic1\", \"Topic1\", \"Topic1\", \"Topic1\", \"Topic1\", \"Topic1\", \"Topic1\", \"Topic1\", \"Topic1\", \"Topic1\", \"Topic1\", \"Topic1\", \"Topic1\", \"Topic1\", \"Topic1\", \"Topic1\", \"Topic1\", \"Topic1\", \"Topic1\", \"Topic1\", \"Topic1\", \"Topic1\", \"Topic1\", \"Topic1\", \"Topic1\", \"Topic1\", \"Topic1\", \"Topic1\", \"Topic1\", \"Topic1\", \"Topic1\", \"Topic1\", \"Topic1\", \"Topic1\", \"Topic1\", \"Topic1\", \"Topic1\", \"Topic1\", \"Topic1\", \"Topic1\", \"Topic1\", \"Topic1\", \"Topic1\", \"Topic1\", \"Topic1\", \"Topic1\", \"Topic1\", \"Topic1\", \"Topic1\", \"Topic1\", \"Topic1\", \"Topic1\", \"Topic1\", \"Topic1\", \"Topic1\", \"Topic1\", \"Topic1\", \"Topic1\", \"Topic1\", \"Topic1\", \"Topic1\", \"Topic1\", \"Topic1\", \"Topic1\", \"Topic1\", \"Topic1\", \"Topic1\", \"Topic1\", \"Topic1\", \"Topic1\", \"Topic1\", \"Topic2\", \"Topic2\", \"Topic2\", \"Topic2\", \"Topic2\", \"Topic2\", \"Topic2\", \"Topic2\", \"Topic2\", \"Topic2\", \"Topic2\", \"Topic2\", \"Topic2\", \"Topic2\", \"Topic2\", \"Topic2\", \"Topic2\", \"Topic2\", \"Topic2\", \"Topic2\", \"Topic2\", \"Topic2\", \"Topic2\", \"Topic2\", \"Topic2\", \"Topic2\", \"Topic2\", \"Topic2\", \"Topic2\", \"Topic2\", \"Topic2\", \"Topic2\", \"Topic2\", \"Topic2\", \"Topic2\", \"Topic2\", \"Topic2\", \"Topic2\", \"Topic2\", \"Topic2\", \"Topic2\", \"Topic2\", \"Topic2\", \"Topic2\", \"Topic2\", \"Topic2\", \"Topic2\", \"Topic2\", \"Topic2\", \"Topic2\", \"Topic2\", \"Topic2\", \"Topic2\", \"Topic2\", \"Topic2\", \"Topic2\", \"Topic2\", \"Topic2\", \"Topic2\", \"Topic2\", \"Topic2\", \"Topic2\", \"Topic2\", \"Topic2\", \"Topic2\", \"Topic2\", \"Topic2\", \"Topic2\", \"Topic2\", \"Topic2\", \"Topic2\", \"Topic2\", \"Topic2\", \"Topic2\", \"Topic2\", \"Topic2\", \"Topic2\", \"Topic2\", \"Topic2\", \"Topic2\", \"Topic3\", \"Topic3\", \"Topic3\", \"Topic3\", \"Topic3\", \"Topic3\", \"Topic3\", \"Topic3\", \"Topic3\", \"Topic3\", \"Topic3\", \"Topic3\", \"Topic3\", \"Topic3\", \"Topic3\", \"Topic3\", \"Topic3\", \"Topic3\", \"Topic3\", \"Topic3\", \"Topic3\", \"Topic3\", \"Topic3\", \"Topic3\", \"Topic3\", \"Topic3\", \"Topic3\", \"Topic3\", \"Topic3\", \"Topic3\", \"Topic3\", \"Topic3\", \"Topic3\", \"Topic3\", \"Topic3\", \"Topic3\", \"Topic3\", \"Topic3\", \"Topic3\", \"Topic3\", \"Topic3\", \"Topic3\", \"Topic3\", \"Topic3\", \"Topic3\", \"Topic3\", \"Topic3\", \"Topic3\", \"Topic3\", \"Topic3\", \"Topic3\", \"Topic3\", \"Topic3\", \"Topic3\", \"Topic3\", \"Topic3\", \"Topic3\", \"Topic3\", \"Topic3\", \"Topic3\", \"Topic3\", \"Topic3\", \"Topic3\", \"Topic3\", \"Topic3\", \"Topic3\", \"Topic3\", \"Topic3\", \"Topic3\", \"Topic3\", \"Topic3\", \"Topic3\", \"Topic3\", \"Topic3\", \"Topic3\", \"Topic3\", \"Topic3\", \"Topic3\", \"Topic4\", \"Topic4\", \"Topic4\", \"Topic4\", \"Topic4\", \"Topic4\", \"Topic4\", \"Topic4\", \"Topic4\", \"Topic4\", \"Topic4\", \"Topic4\", \"Topic4\", \"Topic4\", \"Topic4\", \"Topic4\", \"Topic4\", \"Topic4\", \"Topic4\", \"Topic4\", \"Topic4\", \"Topic4\", \"Topic4\", \"Topic4\", \"Topic4\", \"Topic4\", \"Topic4\", \"Topic4\", \"Topic4\", \"Topic4\", \"Topic4\", \"Topic4\", \"Topic4\", \"Topic4\", \"Topic4\", \"Topic4\", \"Topic4\", \"Topic4\", \"Topic4\", \"Topic4\", \"Topic4\", \"Topic4\", \"Topic4\", \"Topic4\", \"Topic4\", \"Topic4\", \"Topic4\", \"Topic4\", \"Topic4\", \"Topic4\", \"Topic4\", \"Topic4\", \"Topic4\", \"Topic4\", \"Topic4\", \"Topic4\", \"Topic4\", \"Topic4\", \"Topic4\", \"Topic4\", \"Topic4\", \"Topic4\", \"Topic4\", \"Topic4\", \"Topic4\", \"Topic4\"], \"Freq\": [29011.0, 21221.0, 20472.0, 25096.0, 12981.0, 16809.0, 24287.0, 16514.0, 25610.0, 15193.0, 9294.0, 15852.0, 10740.0, 9391.0, 14778.0, 12361.0, 8185.0, 5716.0, 7194.0, 8476.0, 7722.0, 7201.0, 17185.0, 7363.0, 6188.0, 5782.0, 7728.0, 5663.0, 13991.0, 4284.0, 833.2124633789062, 532.9276123046875, 16779.345703125, 594.5604248046875, 504.509521484375, 274.5810852050781, 228.43963623046875, 239.6942901611328, 352.2433776855469, 199.84967041015625, 174.25869750976562, 162.36175537109375, 680.1050415039062, 161.0663604736328, 225.283203125, 156.85226440429688, 170.7400665283203, 1075.3076171875, 148.48046875, 149.85238647460938, 141.80886840820312, 138.29580688476562, 196.45970153808594, 1224.3204345703125, 144.91094970703125, 129.8986358642578, 1227.9405517578125, 969.9962158203125, 120.07874298095703, 850.5839233398438, 5575.76953125, 1895.443603515625, 777.9462280273438, 893.7609252929688, 3791.101806640625, 337.5705871582031, 288.59918212890625, 3671.882080078125, 3555.219970703125, 7906.3330078125, 1226.0687255859375, 619.7660522460938, 2911.277099609375, 663.2950439453125, 440.19036865234375, 5153.75146484375, 1139.2979736328125, 21147.55078125, 3487.6796875, 1468.14990234375, 7427.5283203125, 903.6456298828125, 5128.46337890625, 4794.66943359375, 7758.7314453125, 1473.527587890625, 1935.8392333984375, 2015.0706787109375, 8451.2783203125, 9364.306640625, 4068.323974609375, 3351.85302734375, 3824.199951171875, 2293.305419921875, 19805.884765625, 12205.1064453125, 5268.2041015625, 2918.740966796875, 4432.31103515625, 9529.9365234375, 8041.43359375, 4577.078125, 10848.0107421875, 5975.11181640625, 8712.6552734375, 15234.56640625, 13397.95703125, 9302.2373046875, 9448.87109375, 7033.22998046875, 10068.609375, 10187.7314453125, 6753.30908203125, 6200.18408203125, 7587.68359375, 7149.826171875, 8331.482421875, 9785.8203125, 8344.82421875, 7751.6513671875, 6931.53515625, 7314.84912109375, 6370.37158203125, 6631.32275390625, 6187.59228515625, 2368.732421875, 1712.0595703125, 9289.8408203125, 1461.988037109375, 1444.5006103515625, 1443.4984130859375, 1132.855224609375, 733.9805908203125, 628.950927734375, 639.9371948242188, 2526.640625, 584.7830200195312, 761.4901123046875, 472.66387939453125, 457.90576171875, 409.78106689453125, 402.1549987792969, 4747.47412109375, 358.2676086425781, 1291.079345703125, 369.7442626953125, 306.0971374511719, 360.8422546386719, 280.87127685546875, 278.2353820800781, 334.4844970703125, 284.0736999511719, 267.51849365234375, 261.5191345214844, 4876.86865234375, 9172.4912109375, 1119.404296875, 1129.57861328125, 2250.806884765625, 3248.18994140625, 819.33056640625, 7144.0126953125, 1527.569580078125, 504.0568542480469, 8126.05859375, 23406.98828125, 1778.95166015625, 4502.5205078125, 9936.5908203125, 5389.2822265625, 13088.1025390625, 4645.61572265625, 3138.33740234375, 1480.757080078125, 4180.68017578125, 4183.64892578125, 17100.083984375, 3970.52734375, 7074.57861328125, 3514.627197265625, 4952.78173828125, 4022.87109375, 5672.05126953125, 5266.05029296875, 5617.3828125, 8938.0791015625, 4836.921875, 7647.779296875, 10991.595703125, 9648.6708984375, 7885.2197265625, 6899.98291015625, 8210.6103515625, 9173.71875, 7591.55029296875, 7565.41552734375, 7362.6162109375, 9178.291015625, 8819.736328125, 7119.9853515625, 6991.7109375, 5706.47119140625, 5982.0341796875, 5409.76220703125, 7191.75439453125, 1918.1236572265625, 1649.49365234375, 1574.7325439453125, 21210.208984375, 1338.07470703125, 1267.9951171875, 1355.429443359375, 1141.8466796875, 1144.9278564453125, 1086.9932861328125, 1095.352783203125, 1225.134765625, 1071.5517578125, 1018.65478515625, 1286.1937255859375, 920.5332641601562, 919.6602783203125, 1929.5755615234375, 2266.060546875, 788.0692138671875, 694.2289428710938, 626.3449096679688, 574.4359741210938, 558.7907104492188, 544.7301025390625, 626.4119262695312, 532.4025268554688, 516.6917724609375, 513.655517578125, 4560.06982421875, 1706.122314453125, 3966.825439453125, 1440.2935791015625, 1701.6136474609375, 2844.960693359375, 3010.6240234375, 7033.24560546875, 836.5473022460938, 5349.01123046875, 7489.8671875, 3021.78955078125, 2657.470947265625, 15198.82421875, 7064.8349609375, 5520.4375, 6617.00244140625, 2043.8773193359375, 12144.12109375, 2541.31640625, 12426.134765625, 2367.416748046875, 3208.1435546875, 3204.71923828125, 5731.8994140625, 7390.1005859375, 3997.412353515625, 2978.80712890625, 7475.20263671875, 7425.5068359375, 10738.2724609375, 8162.90283203125, 9539.9052734375, 7915.73486328125, 5816.33251953125, 12503.916015625, 11211.705078125, 7106.830078125, 4113.24951171875, 7606.55615234375, 3994.578857421875, 4936.3505859375, 8144.53369140625, 6906.1298828125, 5661.25, 6014.68408203125, 4892.68408203125, 4917.73486328125, 12980.369140625, 5714.98291015625, 3557.33203125, 29003.798828125, 4283.0419921875, 2763.269775390625, 2749.1865234375, 3022.41064453125, 2313.42041015625, 1419.5263671875, 1203.11572265625, 1100.9317626953125, 1454.9984130859375, 1448.265869140625, 778.1382446289062, 829.5556640625, 720.3693237304688, 3707.5849609375, 600.6018676757812, 595.1666259765625, 546.7710571289062, 523.1663208007812, 593.541259765625, 506.5235290527344, 1004.0060424804688, 500.87908935546875, 470.91778564453125, 497.2286071777344, 431.24993896484375, 638.7264404296875, 1798.7816162109375, 877.9515380859375, 2247.306640625, 2803.526123046875, 1312.555419921875, 17991.345703125, 2642.050537109375, 5294.00927734375, 5045.80126953125, 7130.7900390625, 4656.935546875, 1475.6253662109375, 1090.37890625, 1952.0328369140625, 4107.01416015625, 6928.49658203125, 6557.5703125, 7423.29638671875, 1861.7794189453125, 2834.737060546875, 5168.19384765625, 9329.7744140625, 7050.453125, 5347.08544921875, 3500.769287109375, 4847.646484375, 4431.26220703125, 4600.31298828125, 4517.05810546875, 4735.99755859375, 4166.0546875, 4074.509033203125, 4023.02099609375, 3719.43408203125, 3496.754638671875, 3518.41455078125], \"Term\": [\"camera\", \"drive\", \"batteri\", \"case\", \"len\", \"tv\", \"cabl\", \"usb\", \"sound\", \"fit\", \"headphon\", \"card\", \"keyboard\", \"ipad\", \"comput\", \"pictur\", \"mous\", \"canon\", \"router\", \"cover\", \"window\", \"gb\", \"connect\", \"protect\", \"ear\", \"mm\", \"softwar\", \"photo\", \"speaker\", \"shoot\", \"plasma\", \"vizio\", \"tv\", \"onkyo\", \"yamaha\", \"mediabridg\", \"cb\", \"stud\", \"dish\", \"airplay\", \"banana\", \"rabbit\", \"deliveri\", \"soundbar\", \"friday\", \"bravia\", \"leaf\", \"projector\", \"crt\", \"american\", \"vhf\", \"monopric\", \"coaxial\", \"seller\", \"dlp\", \"handset\", \"hdtv\", \"rca\", \"toslink\", \"refund\", \"hdmi\", \"roku\", \"surg\", \"televis\", \"channel\", \"chromecast\", \"avr\", \"antenna\", \"wall\", \"remot\", \"theater\", \"pioneer\", \"input\", \"harmoni\", \"denon\", \"radio\", \"recept\", \"cabl\", \"ship\", \"sent\", \"receiv\", \"lg\", \"monitor\", \"watch\", \"amazon\", \"outlet\", \"netflix\", \"output\", \"charg\", \"unit\", \"return\", \"car\", \"signal\", \"arriv\", \"work\", \"product\", \"box\", \"hook\", \"audio\", \"buy\", \"purchas\", \"order\", \"price\", \"phone\", \"bought\", \"get\", \"would\", \"set\", \"qualiti\", \"speaker\", \"time\", \"need\", \"got\", \"plug\", \"go\", \"connect\", \"sound\", \"use\", \"well\", \"look\", \"problem\", \"dont\", \"review\", \"want\", \"ear\", \"earbud\", \"earphon\", \"headphon\", \"leather\", \"bud\", \"magnet\", \"sleev\", \"foam\", \"sennheis\", \"flap\", \"headset\", \"trebl\", \"snug\", \"elast\", \"de\", \"inear\", \"snugli\", \"bass\", \"cushion\", \"stylu\", \"fabric\", \"que\", \"targu\", \"otterbox\", \"headband\", \"hing\", \"microfib\", \"paperwhit\", \"canal\", \"kindl\", \"ipad\", \"zipper\", \"cloth\", \"wear\", \"pad\", \"velcro\", \"protect\", \"fold\", \"silicon\", \"cover\", \"case\", \"rubber\", \"comfort\", \"keyboard\", \"ipod\", \"fit\", \"key\", \"protector\", \"bose\", \"plastic\", \"listen\", \"sound\", \"pair\", \"feel\", \"stand\", \"bag\", \"volum\", \"music\", \"tablet\", \"hold\", \"nice\", \"design\", \"screen\", \"well\", \"look\", \"littl\", \"speaker\", \"realli\", \"would\", \"also\", \"qualiti\", \"dont\", \"use\", \"get\", \"much\", \"make\", \"small\", \"price\", \"better\", \"router\", \"ssd\", \"tb\", \"cpu\", \"drive\", \"ghz\", \"mbp\", \"motherboard\", \"sata\", \"wd\", \"intel\", \"seagat\", \"xp\", \"hdd\", \"core\", \"server\", \"linksi\", \"netgear\", \"ram\", \"disk\", \"linux\", \"na\", \"overclock\", \"dlink\", \"bio\", \"amd\", \"corsair\", \"raid\", \"firewir\", \"western\", \"network\", \"hub\", \"mac\", \"cooler\", \"boot\", \"data\", \"desktop\", \"gb\", \"enclosur\", \"file\", \"window\", \"transfer\", \"machin\", \"usb\", \"softwar\", \"pc\", \"wireless\", \"mb\", \"comput\", \"media\", \"card\", \"firmwar\", \"driver\", \"wifi\", \"speed\", \"port\", \"fan\", \"download\", \"run\", \"laptop\", \"devic\", \"instal\", \"connect\", \"power\", \"hard\", \"use\", \"work\", \"problem\", \"game\", \"need\", \"support\", \"play\", \"get\", \"time\", \"also\", \"would\", \"video\", \"set\", \"len\", \"canon\", \"zoom\", \"camera\", \"shoot\", \"lens\", \"nikon\", \"tripod\", \"focu\", \"dslr\", \"photographi\", \"shutter\", \"photograph\", \"camcord\", \"slr\", \"macro\", \"apertur\", \"shot\", \"autofocu\", \"exposur\", \"olympu\", \"viewfind\", \"tomtom\", \"focal\", \"hood\", \"af\", \"ef\", \"sigma\", \"rebel\", \"focus\", \"garmin\", \"aa\", \"f\", \"gp\", \"sensor\", \"batteri\", \"filter\", \"mm\", \"photo\", \"mous\", \"imag\", \"map\", \"iso\", \"sharp\", \"flash\", \"pictur\", \"light\", \"take\", \"recharg\", \"mode\", \"video\", \"use\", \"get\", \"qualiti\", \"featur\", \"time\", \"also\", \"well\", \"need\", \"would\", \"want\", \"realli\", \"much\", \"even\", \"better\", \"price\"], \"Total\": [29011.0, 21221.0, 20472.0, 25096.0, 12981.0, 16809.0, 24287.0, 16514.0, 25610.0, 15193.0, 9294.0, 15852.0, 10740.0, 9391.0, 14778.0, 12361.0, 8185.0, 5716.0, 7194.0, 8476.0, 7722.0, 7201.0, 17185.0, 7363.0, 6188.0, 5782.0, 7728.0, 5663.0, 13991.0, 4284.0, 834.0123291015625, 533.693359375, 16809.48828125, 595.6627807617188, 505.7823486328125, 275.3390808105469, 229.20721435546875, 240.50819396972656, 353.6329345703125, 200.6697235107422, 175.05001831054688, 163.13925170898438, 683.382568359375, 161.8446044921875, 226.3893585205078, 157.63275146484375, 171.61672973632812, 1080.9803466796875, 149.2722625732422, 150.66342163085938, 142.59266662597656, 139.0851593017578, 197.58352661132812, 1231.4993896484375, 145.77072143554688, 130.6718292236328, 1235.349853515625, 975.9769287109375, 120.84507751464844, 856.0765380859375, 5625.74755859375, 1917.257568359375, 783.3302001953125, 904.6160888671875, 3901.330078125, 340.3011779785156, 291.1802062988281, 3808.844482421875, 3701.199462890625, 8455.62890625, 1265.8536376953125, 632.4805297851562, 3068.91015625, 678.5243530273438, 447.12725830078125, 5521.728515625, 1193.91845703125, 24287.080078125, 3789.194580078125, 1554.2696533203125, 8578.447265625, 951.451416015625, 5938.685546875, 5558.48388671875, 9615.650390625, 1637.0087890625, 2242.88623046875, 2353.672119140625, 12223.3212890625, 13817.19921875, 5291.083984375, 4300.8134765625, 5031.705078125, 2753.64453125, 38326.37109375, 21405.279296875, 7685.80712890625, 3739.26904296875, 6316.0654296875, 17134.3515625, 14809.3310546875, 6993.296875, 22711.640625, 10156.35546875, 17406.0078125, 39249.2890625, 33322.35546875, 19624.041015625, 22836.1875, 13991.1796875, 26150.3515625, 27395.947265625, 13614.783203125, 12371.4970703125, 19372.05859375, 17185.716796875, 25610.064453125, 40797.80078125, 28117.521484375, 23446.50390625, 17974.544921875, 22217.134765625, 14328.650390625, 20569.73046875, 6188.72998046875, 2369.505859375, 1712.9404296875, 9294.6552734375, 1462.762451171875, 1445.2686767578125, 1444.456787109375, 1133.7564697265625, 734.85888671875, 629.74267578125, 640.8087768554688, 2530.300537109375, 585.6992797851562, 762.6922607421875, 473.4270935058594, 458.7332458496094, 410.54071044921875, 402.9461364746094, 4757.6630859375, 359.0445861816406, 1293.9951171875, 370.5945129394531, 306.8595886230469, 361.74200439453125, 281.63458251953125, 278.9970703125, 335.4137878417969, 284.86590576171875, 268.2727966308594, 262.2752990722656, 4899.20751953125, 9391.958984375, 1123.5650634765625, 1134.0810546875, 2286.50244140625, 3319.212646484375, 826.0418090820312, 7363.7548828125, 1550.4052734375, 506.6831359863281, 8476.0703125, 25096.92578125, 1833.9395751953125, 4737.208984375, 10740.890625, 5887.35107421875, 15193.7958984375, 5230.97705078125, 3469.620361328125, 1556.19873046875, 4834.896484375, 5024.68701171875, 25610.064453125, 4811.5810546875, 10010.2578125, 4364.89990234375, 6661.95556640625, 5200.1904296875, 8165.6640625, 7637.22998046875, 8464.7099609375, 16406.744140625, 7214.080078125, 15435.591796875, 28117.521484375, 23446.50390625, 17007.318359375, 13991.1796875, 21379.14453125, 33322.35546875, 22569.470703125, 22836.1875, 22217.134765625, 40797.80078125, 39249.2890625, 20510.8046875, 19527.4765625, 11371.548828125, 22711.640625, 17024.134765625, 7194.1005859375, 1918.88623046875, 1650.265869140625, 1575.5059814453125, 21221.3984375, 1338.8680419921875, 1268.789306640625, 1356.3035888671875, 1142.6129150390625, 1145.7078857421875, 1087.7535400390625, 1096.1214599609375, 1226.014892578125, 1072.349853515625, 1019.4774169921875, 1287.2403564453125, 921.3162841796875, 920.5103149414062, 1931.4163818359375, 2268.52001953125, 788.960693359375, 695.0550537109375, 627.1024169921875, 575.2026977539062, 559.5555419921875, 545.4916381835938, 627.2883911132812, 533.1680297851562, 517.4646606445312, 514.4419555664062, 4610.494140625, 1709.7237548828125, 4012.056640625, 1442.640380859375, 1707.432861328125, 2876.130615234375, 3052.547607421875, 7201.83056640625, 838.7127685546875, 5471.48046875, 7722.169921875, 3091.503662109375, 2712.041259765625, 16514.271484375, 7728.2880859375, 5984.41552734375, 7504.2197265625, 2132.21533203125, 14778.03515625, 2703.57470703125, 15852.6640625, 2521.654541015625, 3538.3115234375, 3537.35205078125, 6874.314453125, 9194.3232421875, 4585.88037109375, 3357.283935546875, 10653.314453125, 11320.015625, 18401.044921875, 12846.396484375, 17185.716796875, 15253.0693359375, 9591.0625, 40797.80078125, 38326.37109375, 17974.544921875, 6027.9970703125, 27395.947265625, 6010.35791015625, 10095.138671875, 39249.2890625, 26150.3515625, 22569.470703125, 33322.35546875, 13255.552734375, 19624.041015625, 12981.6015625, 5716.0703125, 3558.133544921875, 29011.505859375, 4284.26513671875, 2764.101318359375, 2750.092529296875, 3023.94873046875, 2314.62646484375, 1420.3240966796875, 1203.9476318359375, 1101.701904296875, 1456.152099609375, 1449.44873046875, 778.90234375, 830.4158935546875, 721.1587524414062, 3712.14013671875, 601.366455078125, 595.9385375976562, 547.5468139648438, 523.9257202148438, 594.4449462890625, 507.296875, 1005.5979614257812, 501.6820373535156, 471.7027587890625, 498.07318115234375, 432.02752685546875, 639.8856811523438, 1815.7645263671875, 880.8147583007812, 2293.5693359375, 2889.21630859375, 1342.208984375, 20472.35546875, 2783.192138671875, 5782.03515625, 5663.4482421875, 8185.931640625, 5417.0185546875, 1585.685302734375, 1156.0120849609375, 2328.281005859375, 6191.298828125, 12361.13671875, 12230.1123046875, 15311.591796875, 2343.9140625, 4670.85498046875, 13255.552734375, 40797.80078125, 39249.2890625, 22836.1875, 9983.8212890625, 26150.3515625, 22569.470703125, 28117.521484375, 27395.947265625, 33322.35546875, 20569.73046875, 21379.14453125, 20510.8046875, 19280.26171875, 17024.134765625, 22711.640625], \"loglift\": [30.0, 29.0, 28.0, 27.0, 26.0, 25.0, 24.0, 23.0, 22.0, 21.0, 20.0, 19.0, 18.0, 17.0, 16.0, 15.0, 14.0, 13.0, 12.0, 11.0, 10.0, 9.0, 8.0, 7.0, 6.0, 5.0, 4.0, 3.0, 2.0, 1.0, 1.1917999982833862, 1.1913000345230103, 1.1908999681472778, 1.1908999681472778, 1.1901999711990356, 1.190000057220459, 1.1893999576568604, 1.1892999410629272, 1.1887999773025513, 1.188599944114685, 1.1881999969482422, 1.187999963760376, 1.1878999471664429, 1.1878999471664429, 1.1878000497817993, 1.1878000497817993, 1.187600016593933, 1.1875, 1.187399983406067, 1.1872999668121338, 1.1871999502182007, 1.187000036239624, 1.187000036239624, 1.186900019645691, 1.1868000030517578, 1.1868000030517578, 1.1866999864578247, 1.1865999698638916, 1.186400055885315, 1.1863000392913818, 1.1837999820709229, 1.1813000440597534, 1.1857999563217163, 1.1806999444961548, 1.1641000509262085, 1.1847000122070312, 1.1837999820709229, 1.1561000347137451, 1.152500033378601, 1.125599980354309, 1.1607999801635742, 1.1723999977111816, 1.1399999856948853, 1.1699999570846558, 1.1770999431610107, 1.1238000392913818, 1.145900011062622, 1.0542999505996704, 1.1097999811172485, 1.135699987411499, 1.048699975013733, 1.1411999464035034, 1.0461000204086304, 1.0448999404907227, 0.9782000184059143, 1.087499976158142, 1.0455000400543213, 1.0374000072479248, 0.8237000107765198, 0.8036999702453613, 0.9298999905586243, 0.9434000253677368, 0.9182999730110168, 1.0097999572753906, 0.5325999855995178, 0.6309999823570251, 0.8151000142097473, 0.9449999928474426, 0.8385999798774719, 0.6061000227928162, 0.582099974155426, 0.7688000202178955, 0.4537999927997589, 0.6621999740600586, 0.5006999969482422, 0.24639999866485596, 0.2815999984741211, 0.44620001316070557, 0.31029999256134033, 0.5049999952316284, 0.23829999566078186, 0.20350000262260437, 0.49160000681877136, 0.5019000172615051, 0.25540000200271606, 0.3156999945640564, 0.0697999969124794, -0.23499999940395355, -0.02199999988079071, 0.08590000122785568, 0.23989999294281006, 0.08179999887943268, 0.382099986076355, 0.06069999933242798, 1.3377000093460083, 1.337499976158142, 1.3372999429702759, 1.3372999429702759, 1.3372999429702759, 1.3372999429702759, 1.3372000455856323, 1.3371000289916992, 1.3366999626159668, 1.3365999460220337, 1.3365000486373901, 1.336400032043457, 1.336300015449524, 1.336300015449524, 1.3361999988555908, 1.3360999822616577, 1.3359999656677246, 1.3358999490737915, 1.3357000350952148, 1.3357000350952148, 1.3356000185012817, 1.3356000185012817, 1.3353999853134155, 1.3353999853134155, 1.3351000547409058, 1.3351000547409058, 1.3351000547409058, 1.3351000547409058, 1.3350000381469727, 1.3350000381469727, 1.333299994468689, 1.3142000436782837, 1.3342000246047974, 1.333899974822998, 1.322100043296814, 1.3162000179290771, 1.329699993133545, 1.3076000213623047, 1.3229999542236328, 1.3327000141143799, 1.295699954032898, 1.2682000398635864, 1.3073999881744385, 1.2869999408721924, 1.2599999904632568, 1.249500036239624, 1.1886999607086182, 1.2192000150680542, 1.2374999523162842, 1.2882000207901, 1.1924999952316284, 1.1547000408172607, 0.9340000152587891, 1.1456999778747559, 0.9908000230789185, 1.1211999654769897, 1.0413999557495117, 1.0812000036239624, 0.9735000133514404, 0.9660999774932861, 0.9277999997138977, 0.7304999828338623, 0.9380999803543091, 0.6355999708175659, 0.3986000120639801, 0.44999998807907104, 0.5691999793052673, 0.6309999823570251, 0.38089999556541443, 0.04800000041723251, 0.2483000010251999, 0.23309999704360962, 0.23340000212192535, -0.15389999747276306, -0.1551000028848648, 0.2797999978065491, 0.3107999861240387, 0.6482999920845032, 0.003700000001117587, 0.19140000641345978, 1.3659000396728516, 1.3658000230789185, 1.3657000064849854, 1.3657000064849854, 1.3657000064849854, 1.3655999898910522, 1.3655999898910522, 1.3655999898910522, 1.3654999732971191, 1.3654999732971191, 1.3654999732971191, 1.3654999732971191, 1.3654999732971191, 1.3654999732971191, 1.365399956703186, 1.365399956703186, 1.365399956703186, 1.3653000593185425, 1.3653000593185425, 1.3651000261306763, 1.3651000261306763, 1.3650000095367432, 1.3650000095367432, 1.36489999294281, 1.364799976348877, 1.364799976348877, 1.364799976348877, 1.364799976348877, 1.3646999597549438, 1.3646999597549438, 1.3552000522613525, 1.3640999794006348, 1.3549000024795532, 1.3645999431610107, 1.3628000020980835, 1.355299949645996, 1.3523999452590942, 1.3424999713897705, 1.3636000156402588, 1.3436000347137451, 1.3357000350952148, 1.343400001525879, 1.345900058746338, 1.2832000255584717, 1.2764999866485596, 1.2855000495910645, 1.240399956703186, 1.3238999843597412, 1.1698999404907227, 1.3042999505996704, 1.1226999759674072, 1.3030999898910522, 1.2683000564575195, 1.2675000429153442, 1.184499979019165, 1.1477999687194824, 1.2288999557495117, 1.2466000318527222, 1.0118999481201172, 0.944599986076355, 0.8276000022888184, 0.9128000140190125, 0.7775999903678894, 0.7103000283241272, 0.866100013256073, 0.18359999358654022, 0.13699999451637268, 0.4383000135421753, 0.984000027179718, 0.08479999750852585, 0.9577000141143799, 0.6507999897003174, -0.20640000700950623, 0.03480000048875809, -0.016699999570846558, -0.3458000123500824, 0.3695000112056732, -0.01769999973475933, 1.719499945640564, 1.7194000482559204, 1.7194000482559204, 1.7194000482559204, 1.7193000316619873, 1.7193000316619873, 1.7193000316619873, 1.719099998474121, 1.719099998474121, 1.719099998474121, 1.7188999652862549, 1.7188999652862549, 1.7187999486923218, 1.7187999486923218, 1.7186000347137451, 1.7186000347137451, 1.718500018119812, 1.718400001525879, 1.718400001525879, 1.7182999849319458, 1.7181999683380127, 1.7181999683380127, 1.7180999517440796, 1.7180999517440796, 1.718000054359436, 1.718000054359436, 1.718000054359436, 1.717900037765503, 1.7178000211715698, 1.7178000211715698, 1.7101999521255493, 1.7164000272750854, 1.6992000341415405, 1.6894999742507935, 1.6972999572753906, 1.590399980545044, 1.6676000356674194, 1.6313999891281128, 1.604099988937378, 1.5815999507904053, 1.5684000253677368, 1.6476999521255493, 1.6612000465393066, 1.5434000492095947, 1.3092000484466553, 1.1406999826431274, 1.0963000059127808, 0.9955999851226807, 1.489300012588501, 1.2201999425888062, 0.7777000069618225, 0.24420000612735748, 0.00279999990016222, 0.2678000032901764, 0.6715999841690063, 0.034299999475479126, 0.0917000025510788, -0.09059999883174896, -0.08290000259876251, -0.2313999980688095, 0.12280000001192093, 0.06199999898672104, 0.09070000052452087, 0.07410000264644623, 0.13680000603199005, -0.1451999992132187], \"logprob\": [30.0, 29.0, 28.0, 27.0, 26.0, 25.0, 24.0, 23.0, 22.0, 21.0, 20.0, 19.0, 18.0, 17.0, 16.0, 15.0, 14.0, 13.0, 12.0, 11.0, 10.0, 9.0, 8.0, 7.0, 6.0, 5.0, 4.0, 3.0, 2.0, 1.0, -7.628900051116943, -8.075799942016602, -4.626299858093262, -7.966300010681152, -8.130599975585938, -8.738900184631348, -8.922900199890137, -8.874799728393555, -8.489800453186035, -9.056599617004395, -9.193599700927734, -9.264300346374512, -7.831900119781494, -9.27239990234375, -8.936800003051758, -9.29889965057373, -9.21399974822998, -7.373799800872803, -9.353699684143066, -9.344499588012695, -9.399700164794922, -9.424799919128418, -9.073699951171875, -7.24399995803833, -9.378000259399414, -9.48740005493164, -7.241099834442139, -7.476900100708008, -9.565999984741211, -7.6082000732421875, -5.728000164031982, -6.807000160217285, -7.697500228881836, -7.558700084686279, -6.113800048828125, -8.532400131225586, -8.68910026550293, -6.145699977874756, -6.177999973297119, -5.378699779510498, -7.242599964141846, -7.924799919128418, -6.377799987792969, -7.856900215148926, -8.267000198364258, -5.806700229644775, -7.315999984741211, -4.394899845123291, -6.197199821472168, -7.062399864196777, -5.441199779510498, -7.547699928283691, -5.811600208282471, -5.878900051116943, -5.397600173950195, -7.058800220489502, -6.785900115966797, -6.745800018310547, -5.312099933624268, -5.209499835968018, -6.0432000160217285, -6.2368998527526855, -6.105100154876709, -6.616399765014648, -4.460400104522705, -4.9446001052856445, -5.7846999168396, -6.37529993057251, -5.957499980926514, -5.191999912261963, -5.361800193786621, -5.9253997802734375, -5.062399864196777, -5.65880012512207, -5.281599998474121, -4.722799777984619, -4.85129976272583, -5.21619987487793, -5.200500011444092, -5.495800018310547, -5.13700008392334, -5.125199794769287, -5.536399841308594, -5.621799945831299, -5.419899940490723, -5.479300022125244, -5.326399803161621, -5.165500164031982, -5.32480001449585, -5.398499965667725, -5.510300159454346, -5.456500053405762, -5.594799995422363, -5.554599761962891, -5.478700160980225, -6.438899993896484, -6.763599872589111, -5.072400093078613, -6.921500205993652, -6.933499813079834, -6.934199810028076, -7.176499843597412, -7.610599994659424, -7.764999866485596, -7.747700214385986, -6.3744001388549805, -7.837800025939941, -7.573800086975098, -8.050700187683105, -8.08240032196045, -8.193400382995605, -8.212200164794922, -5.74370002746582, -8.327799797058105, -7.04580020904541, -8.296199798583984, -8.485099792480469, -8.320599555969238, -8.571200370788574, -8.580599784851074, -8.396499633789062, -8.559800148010254, -8.61989974975586, -8.642499923706055, -5.716800212860107, -5.085100173950195, -7.188499927520752, -7.1793999671936035, -6.489999771118164, -6.123199939727783, -7.5005998611450195, -5.335000038146973, -6.877600193023682, -7.986400127410889, -5.206200122833252, -4.1483001708984375, -6.725299835205078, -5.7967000007629395, -5.005099773406982, -5.6168999671936035, -4.729599952697754, -5.765399932861328, -6.157599925994873, -6.908699989318848, -5.870800018310547, -5.870100021362305, -4.462200164794922, -5.922399997711182, -5.344799995422363, -6.044400215148926, -5.701300144195557, -5.909299850463867, -5.565700054168701, -5.639999866485596, -5.575399875640869, -5.111000061035156, -5.724999904632568, -5.266900062561035, -4.904200077056885, -5.0345001220703125, -5.236299991607666, -5.369800090789795, -5.195899963378906, -5.08489990234375, -5.2743000984191895, -5.277699947357178, -5.304900169372559, -5.084400177001953, -5.124300003051758, -5.338399887084961, -5.356599807739258, -5.559700012207031, -5.512499809265137, -5.613100051879883, -5.300000190734863, -6.621600151062012, -6.772500038146973, -6.818900108337402, -4.218500137329102, -6.9816999435424805, -7.0355000495910645, -6.968800067901611, -7.1402997970581055, -7.137599945068359, -7.189499855041504, -7.1819000244140625, -7.069900035858154, -7.203800201416016, -7.254499912261963, -7.021200180053711, -7.3557000160217285, -7.3566999435424805, -6.615600109100342, -6.454899787902832, -7.511099815368652, -7.637899875640869, -7.740799903869629, -7.827300071716309, -7.854899883270264, -7.88040018081665, -7.740699768066406, -7.903299808502197, -7.933199882507324, -7.9390997886657715, -5.7555999755859375, -6.738699913024902, -5.894999980926514, -6.908100128173828, -6.741399765014648, -6.227399826049805, -6.17080020904541, -5.322299957275391, -7.451399803161621, -5.5960001945495605, -5.259399890899658, -6.167099952697754, -6.295599937438965, -4.551700115203857, -5.317800045013428, -5.564499855041504, -5.383299827575684, -6.55810022354126, -4.776100158691406, -6.3403000831604, -4.7530999183654785, -6.411099910736084, -6.1072001457214355, -6.10830020904541, -5.526899814605713, -5.272799968719482, -5.88730001449585, -6.181399822235107, -5.261300086975098, -5.26800012588501, -4.899099826812744, -5.173299789428711, -5.017499923706055, -5.204100131988525, -5.51230001449585, -4.7469000816345215, -4.855999946594238, -5.3119001388549805, -5.858699798583984, -5.243899822235107, -5.888000011444092, -5.676300048828125, -5.175600051879883, -5.3404998779296875, -5.539299964904785, -5.478700160980225, -5.685200214385986, -5.680099964141846, -4.356100082397461, -5.176400184631348, -5.6504998207092285, -3.5520999431610107, -5.464900016784668, -5.90310001373291, -5.908199787139893, -5.813499927520752, -6.0808000564575195, -6.569200038909912, -6.734600067138672, -6.823400020599365, -6.54449987411499, -6.549200057983398, -7.170400142669678, -7.106400012969971, -7.247499942779541, -5.609099864959717, -7.429299831390381, -7.438399791717529, -7.5233001708984375, -7.567399978637695, -7.441199779510498, -7.599699974060059, -6.915500164031982, -7.610899925231934, -7.672599792480469, -7.618199825286865, -7.7606000900268555, -7.367800235748291, -6.332399845123291, -7.049699783325195, -6.109799861907959, -5.888599872589111, -6.647600173950195, -4.029600143432617, -5.947999954223633, -5.252999782562256, -5.301000118255615, -4.955100059509277, -5.381199836730957, -6.530399799346924, -6.833000183105469, -6.250699996948242, -5.506800174713135, -4.98390007019043, -5.038899898529053, -4.914899826049805, -6.297999858856201, -5.877600193023682, -5.2769999504089355, -4.686299800872803, -4.966400146484375, -5.243000030517578, -5.666500091552734, -5.341000080108643, -5.430799961090088, -5.393400192260742, -5.4116997718811035, -5.364299774169922, -5.492599964141846, -5.514800071716309, -5.527500152587891, -5.605999946594238, -5.667699813842773, -5.661499977111816]}, \"token.table\": {\"Topic\": [3, 4, 4, 1, 1, 2, 3, 4, 1, 2, 3, 4, 3, 1, 1, 3, 4, 1, 2, 3, 4, 1, 2, 3, 4, 4, 1, 3, 1, 2, 3, 4, 1, 1, 2, 3, 1, 2, 3, 4, 1, 2, 3, 4, 3, 1, 3, 4, 1, 2, 1, 2, 3, 4, 1, 2, 3, 4, 1, 2, 1, 2, 3, 4, 1, 2, 3, 4, 4, 1, 2, 3, 4, 2, 1, 4, 1, 2, 3, 4, 1, 2, 3, 4, 1, 2, 3, 4, 1, 1, 3, 4, 1, 2, 3, 4, 1, 3, 1, 2, 4, 1, 3, 1, 2, 3, 4, 1, 2, 3, 4, 1, 2, 3, 4, 2, 3, 3, 3, 1, 2, 3, 4, 3, 1, 2, 1, 2, 3, 4, 2, 1, 2, 3, 4, 1, 2, 3, 1, 2, 3, 4, 1, 2, 3, 4, 1, 2, 3, 4, 1, 3, 1, 3, 4, 3, 1, 1, 2, 3, 4, 1, 3, 4, 1, 2, 3, 4, 1, 2, 3, 4, 4, 2, 2, 2, 4, 2, 2, 3, 1, 2, 3, 4, 4, 1, 3, 4, 2, 1, 2, 3, 4, 1, 2, 3, 4, 1, 2, 3, 4, 1, 2, 3, 4, 1, 2, 3, 4, 3, 1, 3, 4, 1, 2, 3, 4, 2, 1, 2, 3, 4, 2, 4, 1, 4, 1, 4, 2, 4, 1, 4, 1, 2, 3, 4, 1, 2, 4, 1, 2, 3, 4, 1, 2, 3, 4, 3, 1, 2, 3, 4, 1, 2, 3, 4, 1, 2, 4, 1, 1, 2, 3, 4, 1, 3, 4, 3, 1, 3, 1, 3, 4, 2, 1, 2, 3, 1, 2, 3, 2, 1, 2, 3, 4, 1, 4, 1, 2, 3, 4, 1, 3, 1, 2, 3, 4, 2, 1, 2, 3, 4, 1, 2, 3, 4, 3, 1, 2, 3, 4, 1, 2, 3, 4, 3, 4, 1, 2, 3, 4, 1, 2, 3, 4, 1, 2, 1, 2, 3, 4, 1, 2, 1, 4, 4, 1, 3, 1, 2, 3, 4, 3, 3, 1, 2, 3, 4, 1, 2, 3, 4, 1, 2, 3, 4, 1, 2, 3, 4, 1, 2, 3, 4, 4, 2, 1, 2, 3, 4, 1, 3, 4, 3, 4, 3, 1, 2, 3, 4, 1, 2, 1, 2, 3, 4, 1, 2, 3, 4, 1, 2, 3, 4, 1, 3, 1, 2, 3, 4, 1, 2, 3, 4, 1, 2, 3, 4, 3, 1, 2, 3, 4, 1, 3, 3, 1, 3, 4, 1, 2, 3, 4, 4, 4, 1, 3, 1, 2, 3, 4, 2, 1, 2, 3, 4, 1, 2, 3, 4, 3, 1, 2, 3, 4, 1, 2, 3, 4, 2, 1, 2, 3, 4, 1, 2, 3, 4, 1, 2, 3, 4, 3, 4, 4, 1, 2, 3, 4, 1, 2, 3, 1, 1, 2, 3, 4, 1, 2, 3, 4, 1, 2, 3, 4, 1, 2, 3, 4, 1, 2, 3, 4, 1, 2, 3, 4, 1, 2, 3, 4, 1, 2, 3, 4, 1, 3, 4, 1, 2, 3, 4, 1, 2, 3, 1, 2, 3, 4, 1, 2, 3, 4, 2, 1, 1, 2, 3, 4, 3, 2, 3, 1, 3, 1, 2, 3, 4, 4, 1, 2, 3, 4, 1, 2, 3, 4, 1, 2, 3, 4, 1, 3, 1, 2, 3, 4, 1, 2, 3, 4, 1, 2, 3, 4, 1, 3, 1, 3, 1, 2, 3, 4, 1, 2, 3, 4, 3, 1, 2, 3, 4, 3, 1, 2, 3, 2, 1, 2, 3, 4, 1, 2, 3, 4, 1, 3, 1, 2, 3, 4, 1, 2, 3, 4, 1, 2, 3, 4, 1, 4, 1, 3, 4, 4, 4, 1, 3, 4, 2, 3, 2, 4, 1, 2, 3, 4, 1, 2, 2, 1, 2, 3, 4, 1, 2, 3, 4, 1, 1, 2, 3, 4, 1, 2, 3, 4, 3, 1, 2, 3, 4, 1, 2, 4, 1, 2, 3, 4, 1, 3, 1, 2, 3, 4, 1, 2, 3, 4, 2, 3, 1, 3, 1, 3, 1, 2, 3, 4, 4, 1, 1, 2, 3, 4, 2, 1, 4, 1, 3, 4, 1, 2, 3, 4, 1, 2, 3, 4, 1, 2, 3, 4, 1, 2, 4, 1, 1, 2, 3, 4, 4, 1, 1, 2, 3, 4, 1, 2, 3, 4, 1, 2, 3, 4, 1, 2, 3, 4, 3, 1, 2, 3, 4, 1, 2, 3, 4, 3, 1, 2, 3, 4, 1, 2, 3, 4, 1, 2, 3, 4, 1, 2, 3, 4, 1, 2, 3, 4, 3, 1, 3, 2, 4, 4], \"Freq\": [0.0022706249728798866, 0.9968043565750122, 0.9986404776573181, 0.9966625571250916, 0.21644282341003418, 0.3363836109638214, 0.25082555413246155, 0.19632714986801147, 0.8069136738777161, 0.0684301108121872, 0.08881354331970215, 0.03587900847196579, 0.9990987181663513, 0.9955966472625732, 0.9640719294548035, 0.03570636734366417, 0.998393177986145, 0.8327146172523499, 0.09115192294120789, 0.05084171146154404, 0.025057701393961906, 0.7017026543617249, 0.1836586445569992, 0.11177845299243927, 0.00284987548366189, 0.9993906021118164, 0.9925125241279602, 0.0068685985170304775, 0.00015010607603471726, 0.7434753775596619, 0.00015010607603471726, 0.25623106956481934, 0.9940016269683838, 0.0018916850676760077, 0.9977587461471558, 0.00021018722327426076, 0.09373616427183151, 0.02251817099750042, 0.00493348203599453, 0.8787948489189148, 0.34004664421081543, 0.3177841305732727, 0.13674703240394592, 0.20541425049304962, 0.9990071654319763, 0.0023426981642842293, 0.9968181252479553, 0.0011713490821421146, 0.04819435998797417, 0.9516779184341431, 0.5005742907524109, 0.17499704658985138, 0.17763981223106384, 0.14678840339183807, 0.6854192018508911, 0.06349365413188934, 0.22730208933353424, 0.023680010810494423, 0.9959859251976013, 0.9998140931129456, 0.5561926364898682, 0.1524423062801361, 0.15337610244750977, 0.13796845078468323, 0.8707510232925415, 0.02198699861764908, 0.10721749812364578, 8.234831329900771e-05, 0.9990004897117615, 0.00020681449677795172, 3.4469081583665684e-05, 3.4469081583665684e-05, 0.99974125623703, 0.9989503622055054, 0.00017494536587037146, 0.9998127818107605, 0.7793874144554138, 0.1471814513206482, 0.013253306970000267, 0.05998865142464638, 0.03879474103450775, 0.0021447499748319387, 0.7838430404663086, 0.17517560720443726, 0.0021118123549968004, 0.9326640367507935, 0.051719482988119125, 0.013507630676031113, 0.9947330951690674, 0.9717198610305786, 0.027939189225435257, 0.0002563228481449187, 0.6913833022117615, 0.10954469442367554, 0.0036814871709793806, 0.19536425173282623, 0.9932377934455872, 0.0058771469630301, 0.0026453135069459677, 0.9964014291763306, 0.0008817712077870965, 0.991985559463501, 0.005061150528490543, 0.00021109476801939309, 0.9505597352981567, 0.0037997057661414146, 0.045596469193696976, 0.12126104533672333, 0.04642024263739586, 0.8217601180076599, 0.010556207038462162, 0.41604316234588623, 0.027464667335152626, 0.5551121234893799, 0.0013965085381641984, 0.001386346877552569, 0.9981697797775269, 0.9995316863059998, 0.9979460835456848, 0.0048371474258601665, 0.9586989879608154, 0.004719167947769165, 0.031736403703689575, 0.9996788501739502, 0.9914768934249878, 0.9970906376838684, 0.004867651034146547, 0.00034768934710882604, 0.9891762137413025, 0.005563029553741217, 0.9984015822410583, 0.9950502514839172, 0.0014633091632276773, 0.0014633091632276773, 0.0014633091632276773, 0.9840598702430725, 0.00447299936786294, 0.01118249911814928, 0.06986337900161743, 0.6704943776130676, 0.15566779673099518, 0.10396336019039154, 0.0036035473458468914, 0.009172665886580944, 0.9863892197608948, 0.0006551904371008277, 0.2841143012046814, 0.12412338703870773, 0.5835537910461426, 0.008206055499613285, 0.9953824281692505, 0.002827791031450033, 0.00044081604573875666, 0.998889148235321, 0.00044081604573875666, 0.9979090690612793, 0.994712769985199, 0.32925036549568176, 0.33141088485717773, 0.18575753271579742, 0.15357515215873718, 0.03216886147856712, 0.8873243927955627, 0.08042215555906296, 4.712224836112e-05, 0.00037697798688896, 0.999462902545929, 9.424449672224e-05, 0.021196551620960236, 0.07178565114736557, 0.9066471457481384, 0.0002826206909958273, 0.9997718334197998, 0.9998820424079895, 0.9997864961624146, 0.9994509816169739, 0.9985101819038391, 0.9990978837013245, 0.0023846065159887075, 0.9979578852653503, 0.3176824152469635, 0.2536791265010834, 0.2356814444065094, 0.19289156794548035, 0.9984251260757446, 0.00043600163189694285, 0.019620073959231377, 0.9796956777572632, 0.9983958005905151, 0.001090303179807961, 0.12647517025470734, 0.8715883493423462, 0.000872242555487901, 0.20903819799423218, 0.1645662486553192, 0.27574610710144043, 0.3506673276424408, 0.07722079008817673, 0.7067750096321106, 0.05094773694872856, 0.165130615234375, 0.0007310635410249233, 0.00018276588525623083, 0.9776147603988647, 0.021566374227404594, 0.005389494821429253, 0.024791676551103592, 0.02048008143901825, 0.949269711971283, 0.9991020560264587, 0.007931300438940525, 0.9386694431304932, 0.053139712661504745, 0.031065311282873154, 0.8614042401313782, 0.010530614294111729, 0.09694746881723404, 0.9987378716468811, 0.0014536529779434204, 0.00048455098294653, 0.3346632122993469, 0.6633502840995789, 0.9988312125205994, 0.9994148015975952, 0.000432035158155486, 0.9992973208427429, 0.0015627791872248054, 0.9986158609390259, 0.985548734664917, 0.01418983843177557, 0.9938629865646362, 0.0044171689078211784, 0.21798285841941833, 0.08344396948814392, 0.6823161840438843, 0.016257472336292267, 0.008811715058982372, 0.0005507321911863983, 0.990767240524292, 0.000833121535833925, 0.0005554143572226167, 0.9765572547912598, 0.02207772061228752, 0.3881599009037018, 0.22471745312213898, 0.20751968026161194, 0.17962108552455902, 0.9993516802787781, 0.3916981816291809, 0.21174827218055725, 0.22289834916591644, 0.17370378971099854, 0.49600496888160706, 0.20029698312282562, 0.189426451921463, 0.11421408504247665, 0.028727512806653976, 0.0010383438784629107, 0.97050541639328, 0.9948586821556091, 0.047439999878406525, 0.29287683963775635, 0.6063978672027588, 0.05317450314760208, 0.9771203994750977, 0.011790291406214237, 0.01031650509685278, 0.9996737241744995, 0.9911571741104126, 0.008709953166544437, 0.9940503835678101, 0.004047436639666557, 0.0024284617975354195, 0.9964262247085571, 0.00021517742425203323, 0.9994991421699524, 0.00032276613637804985, 0.000395209965063259, 0.9986956119537354, 0.000790419930126518, 0.9957849383354187, 0.08068794012069702, 0.6635785698890686, 0.02551770769059658, 0.23013192415237427, 0.0009944331832230091, 0.9984109401702881, 0.7806338667869568, 0.07220662385225296, 0.14066919684410095, 0.00641836691647768, 0.0017546694725751877, 0.9978219866752625, 0.09488614648580551, 0.0005538101540878415, 0.0450432263314724, 0.8596979975700378, 0.9986829161643982, 0.9485452175140381, 0.0019550914876163006, 0.04724804311990738, 0.0019550914876163006, 0.3154970407485962, 0.046316489577293396, 0.6354311108589172, 0.002802342176437378, 0.9993072748184204, 0.009263243526220322, 0.9765800833702087, 0.013948101550340652, 0.00010647405724739656, 0.029724743217229843, 0.9153522253036499, 0.05486338213086128, 0.00016985567344818264, 0.05622778460383415, 0.9428967237472534, 0.004205715376883745, 0.888170599937439, 0.0969226211309433, 0.01070545706897974, 0.0005586128681898117, 0.9251560568809509, 0.07392310351133347, 0.00037240859819576144, 0.00449052220210433, 0.9954671263694763, 0.04160771518945694, 0.3001762628555298, 0.6560061573982239, 0.0022968165576457977, 0.9964063763618469, 0.9994787573814392, 7.703209848841652e-05, 0.9998766183853149, 0.9996015429496765, 0.950127363204956, 0.049398213624954224, 0.15617190301418304, 0.24954798817634583, 0.058135196566581726, 0.536217451095581, 0.9996566772460938, 0.9987823367118835, 0.1337396800518036, 0.8326886892318726, 0.0334349200129509, 0.00019901737687177956, 0.22025811672210693, 0.46362394094467163, 0.14370284974575043, 0.17239637672901154, 0.3306249976158142, 0.41153258085250854, 0.11050687730312347, 0.14735671877861023, 0.0014954922953620553, 0.00872370507568121, 0.9887697100639343, 0.0007477461476810277, 0.007005793042480946, 0.0036872595082968473, 0.9797048568725586, 0.00921814888715744, 0.9994992017745972, 0.9989914894104004, 0.2586611807346344, 0.3580595850944519, 0.20417384803295135, 0.17913220822811127, 0.007567706052213907, 0.061802931129932404, 0.930827796459198, 0.9586274027824402, 0.0412716306746006, 0.9993779063224792, 0.05807126313447952, 0.0011096419766545296, 0.9398667812347412, 0.00073976133717224, 0.9987685084342957, 0.9969602823257446, 0.006745029706507921, 0.05032829940319061, 0.027153069153428078, 0.9155945777893066, 0.09398707747459412, 0.07685959339141846, 0.22222912311553955, 0.6069552898406982, 0.8634907603263855, 0.0023574240040034056, 0.1252802461385727, 0.008756146766245365, 0.9921978712081909, 0.9990388751029968, 0.0001221608108608052, 0.02321055345237255, 0.10554693639278412, 0.8711286783218384, 0.2808763384819031, 0.3471341133117676, 0.1758585274219513, 0.19614052772521973, 0.0663754940032959, 0.69461590051651, 0.23892728984355927, 0.00012246401456650347, 0.9984820485115051, 0.37187981605529785, 0.18561139702796936, 0.2776688039302826, 0.16487839818000793, 0.8631735444068909, 0.13687720894813538, 0.9994456171989441, 0.0106279281899333, 0.9890480041503906, 0.0002168964856537059, 0.18724007904529572, 0.5447759628295898, 0.11007668823003769, 0.1579228639602661, 0.999602735042572, 0.9990013241767883, 0.998887300491333, 0.0016788021894171834, 0.6544838547706604, 0.1590094119310379, 0.1259777843952179, 0.06048649176955223, 0.9977467656135559, 0.9004227519035339, 0.0012217405019327998, 0.09773924201726913, 0.0006108702509663999, 0.8561090230941772, 0.006797888316214085, 0.11131542176008224, 0.025916948914527893, 0.9982420206069946, 0.0003012762754224241, 0.9785453081130981, 0.003615315305069089, 0.01747402362525463, 0.12241298705339432, 0.8253004550933838, 0.0417742095887661, 0.010599426925182343, 0.9989831447601318, 0.0731901079416275, 0.002673611044883728, 0.9223958253860474, 0.001503906212747097, 0.5883015990257263, 0.35869166254997253, 0.04489799588918686, 0.008073762059211731, 0.0037079884205013514, 0.00017657087300904095, 0.1052362397313118, 0.89097660779953, 0.0006867414340376854, 0.9992088079452515, 0.999212920665741, 0.4329698979854584, 0.0003235948388464749, 0.006229200400412083, 0.5604662299156189, 0.980267345905304, 0.0015810762997716665, 0.018972916528582573, 0.998786211013794, 0.031851768493652344, 0.8647547960281372, 0.008273186162114143, 0.09514164179563522, 0.3680979609489441, 0.11391621828079224, 0.4889482259750366, 0.029023870825767517, 0.501151978969574, 0.10435277223587036, 0.3937276005744934, 0.0007274786476045847, 0.12475088983774185, 0.07134836912155151, 0.803756833076477, 0.0002175255212932825, 0.38130030035972595, 0.05493976175785065, 0.5189775228500366, 0.044843435287475586, 0.4776405394077301, 0.2633891701698303, 0.10404356569051743, 0.154898539185524, 0.3856565058231354, 0.11705442517995834, 0.3953924775123596, 0.1019219160079956, 0.5701864361763, 0.23690417408943176, 0.16014741361141205, 0.032748930156230927, 0.9944676756858826, 0.0037003448233008385, 0.0018501724116504192, 0.004345608875155449, 0.9701572060585022, 0.010864023119211197, 0.01453063078224659, 0.09511127322912216, 0.9044216871261597, 0.0002882159606087953, 0.5429685115814209, 0.1420050710439682, 0.18062935769557953, 0.134374737739563, 0.4137730896472931, 0.3312724530696869, 0.02080032043159008, 0.2341459095478058, 0.997198760509491, 0.9930167198181152, 0.9334033727645874, 0.004165362566709518, 0.062118228524923325, 0.0003622054064180702, 0.9978092908859253, 0.0005177547573111951, 0.9992666840553284, 0.9938759803771973, 0.00512307183817029, 0.2769521474838257, 0.3840658962726593, 0.148415669798851, 0.19060631096363068, 0.9976215958595276, 0.8658909797668457, 0.03881821408867836, 0.06597930938005447, 0.029375946149230003, 0.9540014863014221, 0.0008375781471841037, 0.040203750133514404, 0.0050254687666893005, 0.09044700115919113, 0.11263211816549301, 0.0021331841126084328, 0.7943977117538452, 0.9940699934959412, 0.005840599071234465, 0.9349984526634216, 0.0002365288237342611, 0.03228618577122688, 0.032522715628147125, 0.7688405513763428, 0.07106294482946396, 0.10357046127319336, 0.05651015788316727, 0.4445638656616211, 0.18815450370311737, 0.2045551985502243, 0.16268105804920197, 0.9883909225463867, 0.01095314510166645, 0.00027800555108115077, 0.9997079968452454, 0.0005452742334455252, 0.970042884349823, 0.0005452742334455252, 0.029444808140397072, 0.19026942551136017, 0.07941190898418427, 0.7016595602035522, 0.028535719960927963, 0.9994635581970215, 0.3269715905189514, 0.49547824263572693, 0.06705282628536224, 0.1105237826704979, 0.9989768862724304, 0.9939103722572327, 0.004872109740972519, 0.0008120182901620865, 0.9988206624984741, 0.020116092637181282, 0.0007450404809787869, 0.0014900809619575739, 0.9782381057739258, 0.9444950819015503, 0.0032169451005756855, 0.04954095184803009, 0.0019301669672131538, 0.0007768556824885309, 0.999036431312561, 0.4740104377269745, 0.1013043150305748, 0.25061097741127014, 0.17407220602035522, 0.15333200991153717, 0.00644252123311162, 0.002147507155314088, 0.8383867740631104, 0.9205122590065002, 0.020320940762758255, 0.05304557457566261, 0.00606989162042737, 0.000233412254601717, 0.9997047185897827, 0.0010775455739349127, 0.00026938639348372817, 0.9988846778869629, 0.9993628859519958, 0.9978453516960144, 0.7599809765815735, 0.23948144912719727, 0.00039747956907376647, 0.9947044849395752, 0.003947240300476551, 0.9993327856063843, 0.9988415241241455, 0.12346602976322174, 0.5017786026000977, 0.14580248296260834, 0.2289046198129654, 0.0013111447915434837, 0.9977812170982361, 0.9976519346237183, 0.0021997110452502966, 0.00012939475709572434, 0.9141740202903748, 0.08358901739120483, 0.32530179619789124, 0.6677062511444092, 0.006442779675126076, 0.0005466600996442139, 0.9947813749313354, 0.502673864364624, 0.49316784739494324, 0.004073995165526867, 7.147360156523064e-05, 0.003636726178228855, 0.00014546905003953725, 0.8338286280632019, 0.1624889373779297, 0.9995381832122803, 0.1569337248802185, 0.8052876591682434, 0.004811106715351343, 0.03321954607963562, 0.9978870153427124, 0.9976853728294373, 0.0015456009423360229, 0.26837003231048584, 0.018800877034664154, 0.664685845375061, 0.04825003817677498, 0.9931954741477966, 0.006383004132658243, 0.16498127579689026, 0.6895170211791992, 0.14455503225326538, 0.0009165626834146678, 0.15602557361125946, 0.20043638348579407, 0.1587032973766327, 0.48479610681533813, 0.9979488253593445, 0.9992329478263855, 0.9882645606994629, 0.01105441339313984, 0.9685164093971252, 0.030809249728918076, 0.38504263758659363, 0.16550447046756744, 0.2640882134437561, 0.1853894740343094, 0.9992514848709106, 0.9930069446563721, 0.00582240941002965, 0.00032346718944609165, 0.97751784324646, 0.016496825963258743, 0.9988060593605042, 0.000330693437717855, 0.9993555545806885, 0.9981862306594849, 0.0017252161633223295, 5.9490212152013555e-05, 0.6777060627937317, 0.018817126750946045, 0.24028024077415466, 0.06318212300539017, 0.061159223318099976, 0.016349494457244873, 0.9203554391860962, 0.002119378885254264, 0.23986586928367615, 0.22496311366558075, 0.306487113237381, 0.2286887913942337, 0.0012105924542993307, 0.9914752244949341, 0.006052962504327297, 0.9958436489105225, 0.24042753875255585, 0.000603520660661161, 0.3691283166408539, 0.38987433910369873, 0.9982330799102783, 0.9987008571624756, 0.20556940138339996, 0.7736254930496216, 0.020576169714331627, 0.00019230064935982227, 0.9604994654655457, 0.005403653718531132, 0.029449911788105965, 0.004593105521053076, 0.3223668932914734, 0.258535236120224, 0.21653176844120026, 0.2025306075811386, 0.8626453280448914, 0.03939923271536827, 0.0894128680229187, 0.008635448291897774, 0.9993821382522583, 0.0008746983949095011, 0.9844730496406555, 0.00043734919745475054, 0.014432523399591446, 0.2967900335788727, 0.3909306228160858, 0.14869731664657593, 0.16359905898571014, 0.9991409182548523, 0.0839611068367958, 0.0002826973213814199, 0.9060449600219727, 0.00989440642297268, 0.02356850542128086, 0.0016834646230563521, 0.9699346423149109, 0.004791399464011192, 0.049572110176086426, 0.0373123399913311, 0.8817705512046814, 0.03131571412086487, 0.5167720913887024, 0.11655160039663315, 0.2925401031970978, 0.07415259629487991, 0.4020724296569824, 0.2753106653690338, 0.18050944805145264, 0.14212681353092194, 0.9991722106933594, 0.9984531998634338, 0.0019771349616348743, 0.9959369897842407, 0.0035600964911282063, 0.9996814131736755], \"Term\": [\"aa\", \"aa\", \"af\", \"airplay\", \"also\", \"also\", \"also\", \"also\", \"amazon\", \"amazon\", \"amazon\", \"amazon\", \"amd\", \"american\", \"antenna\", \"antenna\", \"apertur\", \"arriv\", \"arriv\", \"arriv\", \"arriv\", \"audio\", \"audio\", \"audio\", \"audio\", \"autofocu\", \"avr\", \"avr\", \"bag\", \"bag\", \"bag\", \"bag\", \"banana\", \"bass\", \"bass\", \"bass\", \"batteri\", \"batteri\", \"batteri\", \"batteri\", \"better\", \"better\", \"better\", \"better\", \"bio\", \"boot\", \"boot\", \"boot\", \"bose\", \"bose\", \"bought\", \"bought\", \"bought\", \"bought\", \"box\", \"box\", \"box\", \"box\", \"bravia\", \"bud\", \"buy\", \"buy\", \"buy\", \"buy\", \"cabl\", \"cabl\", \"cabl\", \"cabl\", \"camcord\", \"camera\", \"camera\", \"camera\", \"camera\", \"canal\", \"canon\", \"canon\", \"car\", \"car\", \"car\", \"car\", \"card\", \"card\", \"card\", \"card\", \"case\", \"case\", \"case\", \"case\", \"cb\", \"channel\", \"channel\", \"channel\", \"charg\", \"charg\", \"charg\", \"charg\", \"chromecast\", \"chromecast\", \"cloth\", \"cloth\", \"cloth\", \"coaxial\", \"coaxial\", \"comfort\", \"comfort\", \"comfort\", \"comfort\", \"comput\", \"comput\", \"comput\", \"comput\", \"connect\", \"connect\", \"connect\", \"connect\", \"cooler\", \"cooler\", \"core\", \"corsair\", \"cover\", \"cover\", \"cover\", \"cover\", \"cpu\", \"crt\", \"cushion\", \"data\", \"data\", \"data\", \"data\", \"de\", \"deliveri\", \"deliveri\", \"deliveri\", \"deliveri\", \"denon\", \"denon\", \"denon\", \"design\", \"design\", \"design\", \"design\", \"desktop\", \"desktop\", \"desktop\", \"desktop\", \"devic\", \"devic\", \"devic\", \"devic\", \"dish\", \"dish\", \"disk\", \"disk\", \"disk\", \"dlink\", \"dlp\", \"dont\", \"dont\", \"dont\", \"dont\", \"download\", \"download\", \"download\", \"drive\", \"drive\", \"drive\", \"drive\", \"driver\", \"driver\", \"driver\", \"driver\", \"dslr\", \"ear\", \"earbud\", \"earphon\", \"ef\", \"elast\", \"enclosur\", \"enclosur\", \"even\", \"even\", \"even\", \"even\", \"exposur\", \"f\", \"f\", \"f\", \"fabric\", \"fan\", \"fan\", \"fan\", \"fan\", \"featur\", \"featur\", \"featur\", \"featur\", \"feel\", \"feel\", \"feel\", \"feel\", \"file\", \"file\", \"file\", \"file\", \"filter\", \"filter\", \"filter\", \"filter\", \"firewir\", \"firmwar\", \"firmwar\", \"firmwar\", \"fit\", \"fit\", \"fit\", \"fit\", \"flap\", \"flash\", \"flash\", \"flash\", \"flash\", \"foam\", \"focal\", \"focu\", \"focu\", \"focus\", \"focus\", \"fold\", \"fold\", \"friday\", \"friday\", \"game\", \"game\", \"game\", \"game\", \"garmin\", \"garmin\", \"garmin\", \"gb\", \"gb\", \"gb\", \"gb\", \"get\", \"get\", \"get\", \"get\", \"ghz\", \"go\", \"go\", \"go\", \"go\", \"got\", \"got\", \"got\", \"got\", \"gp\", \"gp\", \"gp\", \"handset\", \"hard\", \"hard\", \"hard\", \"hard\", \"harmoni\", \"harmoni\", \"harmoni\", \"hdd\", \"hdmi\", \"hdmi\", \"hdtv\", \"hdtv\", \"hdtv\", \"headband\", \"headphon\", \"headphon\", \"headphon\", \"headset\", \"headset\", \"headset\", \"hing\", \"hold\", \"hold\", \"hold\", \"hold\", \"hood\", \"hood\", \"hook\", \"hook\", \"hook\", \"hook\", \"hub\", \"hub\", \"imag\", \"imag\", \"imag\", \"imag\", \"inear\", \"input\", \"input\", \"input\", \"input\", \"instal\", \"instal\", \"instal\", \"instal\", \"intel\", \"ipad\", \"ipad\", \"ipad\", \"ipad\", \"ipod\", \"ipod\", \"ipod\", \"ipod\", \"iso\", \"iso\", \"key\", \"key\", \"key\", \"key\", \"keyboard\", \"keyboard\", \"keyboard\", \"keyboard\", \"kindl\", \"kindl\", \"laptop\", \"laptop\", \"laptop\", \"laptop\", \"leaf\", \"leather\", \"len\", \"len\", \"lens\", \"lg\", \"lg\", \"light\", \"light\", \"light\", \"light\", \"linksi\", \"linux\", \"listen\", \"listen\", \"listen\", \"listen\", \"littl\", \"littl\", \"littl\", \"littl\", \"look\", \"look\", \"look\", \"look\", \"mac\", \"mac\", \"mac\", \"mac\", \"machin\", \"machin\", \"machin\", \"machin\", \"macro\", \"magnet\", \"make\", \"make\", \"make\", \"make\", \"map\", \"map\", \"map\", \"mb\", \"mb\", \"mbp\", \"media\", \"media\", \"media\", \"media\", \"mediabridg\", \"microfib\", \"mm\", \"mm\", \"mm\", \"mm\", \"mode\", \"mode\", \"mode\", \"mode\", \"monitor\", \"monitor\", \"monitor\", \"monitor\", \"monopric\", \"motherboard\", \"mous\", \"mous\", \"mous\", \"mous\", \"much\", \"much\", \"much\", \"much\", \"music\", \"music\", \"music\", \"music\", \"na\", \"need\", \"need\", \"need\", \"need\", \"netflix\", \"netflix\", \"netgear\", \"network\", \"network\", \"network\", \"nice\", \"nice\", \"nice\", \"nice\", \"nikon\", \"olympu\", \"onkyo\", \"onkyo\", \"order\", \"order\", \"order\", \"order\", \"otterbox\", \"outlet\", \"outlet\", \"outlet\", \"outlet\", \"output\", \"output\", \"output\", \"output\", \"overclock\", \"pad\", \"pad\", \"pad\", \"pad\", \"pair\", \"pair\", \"pair\", \"pair\", \"paperwhit\", \"pc\", \"pc\", \"pc\", \"pc\", \"phone\", \"phone\", \"phone\", \"phone\", \"photo\", \"photo\", \"photo\", \"photo\", \"photograph\", \"photograph\", \"photographi\", \"pictur\", \"pictur\", \"pictur\", \"pictur\", \"pioneer\", \"pioneer\", \"pioneer\", \"plasma\", \"plastic\", \"plastic\", \"plastic\", \"plastic\", \"play\", \"play\", \"play\", \"play\", \"plug\", \"plug\", \"plug\", \"plug\", \"port\", \"port\", \"port\", \"port\", \"power\", \"power\", \"power\", \"power\", \"price\", \"price\", \"price\", \"price\", \"problem\", \"problem\", \"problem\", \"problem\", \"product\", \"product\", \"product\", \"product\", \"projector\", \"projector\", \"projector\", \"protect\", \"protect\", \"protect\", \"protect\", \"protector\", \"protector\", \"protector\", \"purchas\", \"purchas\", \"purchas\", \"purchas\", \"qualiti\", \"qualiti\", \"qualiti\", \"qualiti\", \"que\", \"rabbit\", \"radio\", \"radio\", \"radio\", \"radio\", \"raid\", \"ram\", \"ram\", \"rca\", \"rca\", \"realli\", \"realli\", \"realli\", \"realli\", \"rebel\", \"receiv\", \"receiv\", \"receiv\", \"receiv\", \"recept\", \"recept\", \"recept\", \"recept\", \"recharg\", \"recharg\", \"recharg\", \"recharg\", \"refund\", \"refund\", \"remot\", \"remot\", \"remot\", \"remot\", \"return\", \"return\", \"return\", \"return\", \"review\", \"review\", \"review\", \"review\", \"roku\", \"roku\", \"router\", \"router\", \"rubber\", \"rubber\", \"rubber\", \"rubber\", \"run\", \"run\", \"run\", \"run\", \"sata\", \"screen\", \"screen\", \"screen\", \"screen\", \"seagat\", \"seller\", \"seller\", \"seller\", \"sennheis\", \"sensor\", \"sensor\", \"sensor\", \"sensor\", \"sent\", \"sent\", \"sent\", \"sent\", \"server\", \"server\", \"set\", \"set\", \"set\", \"set\", \"sharp\", \"sharp\", \"sharp\", \"sharp\", \"ship\", \"ship\", \"ship\", \"ship\", \"shoot\", \"shoot\", \"shot\", \"shot\", \"shot\", \"shutter\", \"sigma\", \"signal\", \"signal\", \"signal\", \"silicon\", \"silicon\", \"sleev\", \"slr\", \"small\", \"small\", \"small\", \"small\", \"snug\", \"snug\", \"snugli\", \"softwar\", \"softwar\", \"softwar\", \"softwar\", \"sound\", \"sound\", \"sound\", \"sound\", \"soundbar\", \"speaker\", \"speaker\", \"speaker\", \"speaker\", \"speed\", \"speed\", \"speed\", \"speed\", \"ssd\", \"stand\", \"stand\", \"stand\", \"stand\", \"stud\", \"stylu\", \"stylu\", \"support\", \"support\", \"support\", \"support\", \"surg\", \"surg\", \"tablet\", \"tablet\", \"tablet\", \"tablet\", \"take\", \"take\", \"take\", \"take\", \"targu\", \"tb\", \"televis\", \"televis\", \"theater\", \"theater\", \"time\", \"time\", \"time\", \"time\", \"tomtom\", \"toslink\", \"transfer\", \"transfer\", \"transfer\", \"transfer\", \"trebl\", \"tripod\", \"tripod\", \"tv\", \"tv\", \"tv\", \"unit\", \"unit\", \"unit\", \"unit\", \"usb\", \"usb\", \"usb\", \"usb\", \"use\", \"use\", \"use\", \"use\", \"velcro\", \"velcro\", \"velcro\", \"vhf\", \"video\", \"video\", \"video\", \"video\", \"viewfind\", \"vizio\", \"volum\", \"volum\", \"volum\", \"volum\", \"wall\", \"wall\", \"wall\", \"wall\", \"want\", \"want\", \"want\", \"want\", \"watch\", \"watch\", \"watch\", \"watch\", \"wd\", \"wear\", \"wear\", \"wear\", \"wear\", \"well\", \"well\", \"well\", \"well\", \"western\", \"wifi\", \"wifi\", \"wifi\", \"wifi\", \"window\", \"window\", \"window\", \"window\", \"wireless\", \"wireless\", \"wireless\", \"wireless\", \"work\", \"work\", \"work\", \"work\", \"would\", \"would\", \"would\", \"would\", \"xp\", \"yamaha\", \"yamaha\", \"zipper\", \"zipper\", \"zoom\"]}, \"R\": 30, \"lambda.step\": 0.01, \"plot.opts\": {\"xlab\": \"PC1\", \"ylab\": \"PC2\"}, \"topic.order\": [2, 1, 3, 4]};\n",
       "\n",
       "function LDAvis_load_lib(url, callback){\n",
       "  var s = document.createElement('script');\n",
       "  s.src = url;\n",
       "  s.async = true;\n",
       "  s.onreadystatechange = s.onload = callback;\n",
       "  s.onerror = function(){console.warn(\"failed to load library \" + url);};\n",
       "  document.getElementsByTagName(\"head\")[0].appendChild(s);\n",
       "}\n",
       "\n",
       "if(typeof(LDAvis) !== \"undefined\"){\n",
       "   // already loaded: just create the visualization\n",
       "   !function(LDAvis){\n",
       "       new LDAvis(\"#\" + \"ldavis_el903618867130003684425092613\", ldavis_el903618867130003684425092613_data);\n",
       "   }(LDAvis);\n",
       "}else if(typeof define === \"function\" && define.amd){\n",
       "   // require.js is available: use it to load d3/LDAvis\n",
       "   require.config({paths: {d3: \"https://cdnjs.cloudflare.com/ajax/libs/d3/3.5.5/d3.min\"}});\n",
       "   require([\"d3\"], function(d3){\n",
       "      window.d3 = d3;\n",
       "      LDAvis_load_lib(\"https://cdn.rawgit.com/bmabey/pyLDAvis/files/ldavis.v1.0.0.js\", function(){\n",
       "        new LDAvis(\"#\" + \"ldavis_el903618867130003684425092613\", ldavis_el903618867130003684425092613_data);\n",
       "      });\n",
       "    });\n",
       "}else{\n",
       "    // require.js not available: dynamically load d3 & LDAvis\n",
       "    LDAvis_load_lib(\"https://cdnjs.cloudflare.com/ajax/libs/d3/3.5.5/d3.min.js\", function(){\n",
       "         LDAvis_load_lib(\"https://cdn.rawgit.com/bmabey/pyLDAvis/files/ldavis.v1.0.0.js\", function(){\n",
       "                 new LDAvis(\"#\" + \"ldavis_el903618867130003684425092613\", ldavis_el903618867130003684425092613_data);\n",
       "            })\n",
       "         });\n",
       "}\n",
       "</script>"
      ],
      "text/plain": [
       "PreparedData(topic_coordinates=            Freq  cluster  topics         x         y\n",
       "topic                                                \n",
       "1      30.338938        1       1  0.039804 -0.035212\n",
       "0      26.240644        1       2 -0.115311 -0.082882\n",
       "2      25.507092        1       3  0.132442 -0.007562\n",
       "3      17.913328        1       4 -0.056935  0.125656, topic_info=     Category          Freq      Term         Total  loglift  logprob\n",
       "term                                                                 \n",
       "210   Default  29011.000000    camera  29011.000000  30.0000  30.0000\n",
       "787   Default  21221.000000     drive  21221.000000  29.0000  29.0000\n",
       "377   Default  20472.000000   batteri  20472.000000  28.0000  28.0000\n",
       "125   Default  25096.000000      case  25096.000000  27.0000  27.0000\n",
       "485   Default  12981.000000       len  12981.000000  26.0000  26.0000\n",
       "46    Default  16809.000000        tv  16809.000000  25.0000  25.0000\n",
       "7     Default  24287.000000      cabl  24287.000000  24.0000  24.0000\n",
       "912   Default  16514.000000       usb  16514.000000  23.0000  23.0000\n",
       "93    Default  25610.000000     sound  25610.000000  22.0000  22.0000\n",
       "65    Default  15193.000000       fit  15193.000000  21.0000  21.0000\n",
       "796   Default   9294.000000  headphon   9294.000000  20.0000  20.0000\n",
       "554   Default  15852.000000      card  15852.000000  19.0000  19.0000\n",
       "154   Default  10740.000000  keyboard  10740.000000  18.0000  18.0000\n",
       "538   Default   9391.000000      ipad   9391.000000  17.0000  17.0000\n",
       "129   Default  14778.000000    comput  14778.000000  16.0000  16.0000\n",
       "30    Default  12361.000000    pictur  12361.000000  15.0000  15.0000\n",
       "581   Default   8185.000000      mous   8185.000000  14.0000  14.0000\n",
       "211   Default   5716.000000     canon   5716.000000  13.0000  13.0000\n",
       "1661  Default   7194.000000    router   7194.000000  12.0000  12.0000\n",
       "868   Default   8476.000000     cover   8476.000000  11.0000  11.0000\n",
       "282   Default   7722.000000    window   7722.000000  10.0000  10.0000\n",
       "547   Default   7201.000000        gb   7201.000000   9.0000   9.0000\n",
       "331   Default  17185.000000   connect  17185.000000   8.0000   8.0000\n",
       "566   Default   7363.000000   protect   7363.000000   7.0000   7.0000\n",
       "789   Default   6188.000000       ear   6188.000000   6.0000   6.0000\n",
       "256   Default   5782.000000        mm   5782.000000   5.0000   5.0000\n",
       "1484  Default   7728.000000   softwar   7728.000000   4.0000   4.0000\n",
       "363   Default   5663.000000     photo   5663.000000   3.0000   3.0000\n",
       "433   Default  13991.000000   speaker  13991.000000   2.0000   2.0000\n",
       "228   Default   4284.000000     shoot   4284.000000   1.0000   1.0000\n",
       "...       ...           ...       ...           ...      ...      ...\n",
       "2026   Topic4   2642.050537    filter   2783.192139   1.6676  -5.9480\n",
       "256    Topic4   5294.009277        mm   5782.035156   1.6314  -5.2530\n",
       "363    Topic4   5045.801270     photo   5663.448242   1.6041  -5.3010\n",
       "581    Topic4   7130.790039      mous   8185.931641   1.5816  -4.9551\n",
       "218    Topic4   4656.935547      imag   5417.018555   1.5684  -5.3812\n",
       "2800   Topic4   1475.625366       map   1585.685303   1.6477  -6.5304\n",
       "1566   Topic4   1090.378906       iso   1156.012085   1.6612  -6.8330\n",
       "2524   Topic4   1952.032837     sharp   2328.281006   1.5434  -6.2507\n",
       "216    Topic4   4107.014160     flash   6191.298828   1.3092  -5.5068\n",
       "30     Topic4   6928.496582    pictur  12361.136719   1.1407  -4.9839\n",
       "160    Topic4   6557.570312     light  12230.112305   1.0963  -5.0389\n",
       "194    Topic4   7423.296387      take  15311.591797   0.9956  -4.9149\n",
       "1375   Topic4   1861.779419   recharg   2343.914062   1.4893  -6.2980\n",
       "1065   Topic4   2834.737061      mode   4670.854980   1.2202  -5.8776\n",
       "705    Topic4   5168.193848     video  13255.552734   0.7777  -5.2770\n",
       "103    Topic4   9329.774414       use  40797.800781   0.2442  -4.6863\n",
       "69     Topic4   7050.453125       get  39249.289062   0.0028  -4.9664\n",
       "33     Topic4   5347.085449   qualiti  22836.187500   0.2678  -5.2430\n",
       "1173   Topic4   3500.769287    featur   9983.821289   0.6716  -5.6665\n",
       "98     Topic4   4847.646484      time  26150.351562   0.0343  -5.3410\n",
       "52     Topic4   4431.262207      also  22569.470703   0.0917  -5.4308\n",
       "104    Topic4   4600.312988      well  28117.521484  -0.0906  -5.3934\n",
       "28     Topic4   4517.058105      need  27395.947266  -0.0829  -5.4117\n",
       "50     Topic4   4735.997559     would  33322.355469  -0.2314  -5.3643\n",
       "230    Topic4   4166.054688      want  20569.730469   0.1228  -5.4926\n",
       "84     Topic4   4074.509033    realli  21379.144531   0.0620  -5.5148\n",
       "276    Topic4   4023.020996      much  20510.804688   0.0907  -5.5275\n",
       "61     Topic4   3719.434082      even  19280.261719   0.0741  -5.6060\n",
       "511    Topic4   3496.754639    better  17024.134766   0.1368  -5.6677\n",
       "584    Topic4   3518.414551     price  22711.640625  -0.1452  -5.6615\n",
       "\n",
       "[348 rows x 6 columns], token_table=      Topic      Freq      Term\n",
       "term                           \n",
       "1321      3  0.002271        aa\n",
       "1321      4  0.996804        aa\n",
       "4026      4  0.998640        af\n",
       "9680      1  0.996663   airplay\n",
       "52        1  0.216443      also\n",
       "52        2  0.336384      also\n",
       "52        3  0.250826      also\n",
       "52        4  0.196327      also\n",
       "508       1  0.806914    amazon\n",
       "508       2  0.068430    amazon\n",
       "508       3  0.088814    amazon\n",
       "508       4  0.035879    amazon\n",
       "5996      3  0.999099       amd\n",
       "4548      1  0.995597  american\n",
       "1274      1  0.964072   antenna\n",
       "1274      3  0.035706   antenna\n",
       "3842      4  0.998393   apertur\n",
       "1949      1  0.832715     arriv\n",
       "1949      2  0.091152     arriv\n",
       "1949      3  0.050842     arriv\n",
       "1949      4  0.025058     arriv\n",
       "1517      1  0.701703     audio\n",
       "1517      2  0.183659     audio\n",
       "1517      3  0.111778     audio\n",
       "1517      4  0.002850     audio\n",
       "335       4  0.999391  autofocu\n",
       "5313      1  0.992513       avr\n",
       "5313      3  0.006869       avr\n",
       "117       1  0.000150       bag\n",
       "117       2  0.743475       bag\n",
       "...     ...       ...       ...\n",
       "104       2  0.390931      well\n",
       "104       3  0.148697      well\n",
       "104       4  0.163599      well\n",
       "2466      3  0.999141   western\n",
       "1142      1  0.083961      wifi\n",
       "1142      2  0.000283      wifi\n",
       "1142      3  0.906045      wifi\n",
       "1142      4  0.009894      wifi\n",
       "282       1  0.023569    window\n",
       "282       2  0.001683    window\n",
       "282       3  0.969935    window\n",
       "282       4  0.004791    window\n",
       "204       1  0.049572  wireless\n",
       "204       2  0.037312  wireless\n",
       "204       3  0.881771  wireless\n",
       "204       4  0.031316  wireless\n",
       "329       1  0.516772      work\n",
       "329       2  0.116552      work\n",
       "329       3  0.292540      work\n",
       "329       4  0.074153      work\n",
       "50        1  0.402072     would\n",
       "50        2  0.275311     would\n",
       "50        3  0.180509     would\n",
       "50        4  0.142127     would\n",
       "3420      3  0.999172        xp\n",
       "4725      1  0.998453    yamaha\n",
       "4725      3  0.001977    yamaha\n",
       "2737      2  0.995937    zipper\n",
       "2737      4  0.003560    zipper\n",
       "1747      4  0.999681      zoom\n",
       "\n",
       "[765 rows x 3 columns], R=30, lambda_step=0.01, plot_opts={'xlab': 'PC1', 'ylab': 'PC2'}, topic_order=[2, 1, 3, 4])"
      ]
     },
     "execution_count": 104,
     "metadata": {},
     "output_type": "execute_result"
    }
   ],
   "source": [
    "pyLDAvis.enable_notebook()\n",
    "vis = pyLDAvis.gensim.prepare(lda_model, docs_bow, dictionary)\n",
    "vis"
   ]
  },
  {
   "cell_type": "markdown",
   "metadata": {},
   "source": [
    "#  Coherence"
   ]
  },
  {
   "cell_type": "markdown",
   "metadata": {},
   "source": [
    " - coherence (w1,w2) tells that how these words or topics appearing together.\n",
    " - Two types of coherence and they are intrinsic and extrinsic coherence.\n",
    " - coherence(w1,w2) = log(d(w1,w2) / docs in which w1 occurs) similarly find for all the topics and words.\n",
    " - over all coherence score = coherence of all the topics / total topics.\n",
    " - the coherence score should be high\n",
    " -  decide the number of topics and calculate the probability for each topic and find out the coherence score for each topic and sum them later find out       the average of it finally calculate the over all coherence score\n",
    " - draw the elbow curve and find the saturation point."
   ]
  },
  {
   "cell_type": "code",
   "execution_count": 105,
   "metadata": {},
   "outputs": [
    {
     "data": {
      "text/plain": [
       "-1.778731349838523"
      ]
     },
     "execution_count": 105,
     "metadata": {},
     "output_type": "execute_result"
    }
   ],
   "source": [
    "from gensim.models.coherencemodel import CoherenceModel\n",
    "cm = CoherenceModel(model = lda_model, corpus = docs_bow,\n",
    "                   coherence='u_mass')\n",
    "coherence = cm.get_coherence()\n",
    "coherence"
   ]
  },
  {
   "cell_type": "code",
   "execution_count": 108,
   "metadata": {},
   "outputs": [],
   "source": [
    "from gensim.models.coherencemodel import CoherenceModel\n",
    "\n",
    "cohers = []\n",
    "for i in range(1,15):\n",
    "    lda_model = gensim.models.LdaModel(docs_bow,\n",
    "                                      id2word = dictionary,\n",
    "                                      num_topics = i)\n",
    "    cm = CoherenceModel(model = lda_model, corpus = docs_bow,\n",
    "                   coherence='u_mass')\n",
    "    coherence = cm.get_coherence()\n",
    "    cohers.append(coherence)"
   ]
  },
  {
   "cell_type": "code",
   "execution_count": null,
   "metadata": {},
   "outputs": [],
   "source": []
  },
  {
   "cell_type": "code",
   "execution_count": null,
   "metadata": {},
   "outputs": [],
   "source": []
  },
  {
   "cell_type": "code",
   "execution_count": null,
   "metadata": {},
   "outputs": [],
   "source": []
  }
 ],
 "metadata": {
  "kernelspec": {
   "display_name": "Python 3",
   "language": "python",
   "name": "python3"
  },
  "language_info": {
   "codemirror_mode": {
    "name": "ipython",
    "version": 3
   },
   "file_extension": ".py",
   "mimetype": "text/x-python",
   "name": "python",
   "nbconvert_exporter": "python",
   "pygments_lexer": "ipython3",
   "version": "3.6.4"
  }
 },
 "nbformat": 4,
 "nbformat_minor": 2
}
